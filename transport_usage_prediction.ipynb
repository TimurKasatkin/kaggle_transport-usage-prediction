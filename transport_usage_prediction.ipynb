{
 "cells": [
  {
   "cell_type": "markdown",
   "metadata": {},
   "source": [
    "# Stackoverflow Competition\n",
    "\n",
    "**Team Members**:\n",
    "- Timur Kasatkin\n",
    "- Sergey Pinkevich\n",
    "\n",
    "**Team name**: Timur&Sergey"
   ]
  },
  {
   "cell_type": "code",
   "execution_count": 18,
   "metadata": {
    "collapsed": false,
    "scrolled": true
   },
   "outputs": [
    {
     "name": "stdout",
     "output_type": "stream",
     "text": [
      "Populating the interactive namespace from numpy and matplotlib\n"
     ]
    }
   ],
   "source": [
    "%pylab inline"
   ]
  },
  {
   "cell_type": "code",
   "execution_count": 19,
   "metadata": {
    "collapsed": false
   },
   "outputs": [],
   "source": [
    "import sklearn as skl\n",
    "import sklearn\n",
    "import pandas as pd\n",
    "import scipy\n",
    "import seaborn as sns"
   ]
  },
  {
   "cell_type": "code",
   "execution_count": 20,
   "metadata": {
    "collapsed": true
   },
   "outputs": [],
   "source": [
    "from datetime import date"
   ]
  },
  {
   "cell_type": "code",
   "execution_count": 21,
   "metadata": {
    "collapsed": false,
    "scrolled": true
   },
   "outputs": [
    {
     "data": {
      "text/html": [
       "<div>\n",
       "<table border=\"1\" class=\"dataframe\">\n",
       "  <thead>\n",
       "    <tr style=\"text-align: right;\">\n",
       "      <th></th>\n",
       "      <th>date</th>\n",
       "      <th>hour</th>\n",
       "      <th>holiday</th>\n",
       "      <th>workingday</th>\n",
       "      <th>weekday</th>\n",
       "      <th>weather_type</th>\n",
       "      <th>temp</th>\n",
       "      <th>ftemp</th>\n",
       "      <th>humidity</th>\n",
       "      <th>wind_speed</th>\n",
       "      <th>casual</th>\n",
       "      <th>subscribed</th>\n",
       "      <th>usage</th>\n",
       "    </tr>\n",
       "  </thead>\n",
       "  <tbody>\n",
       "    <tr>\n",
       "      <th>0</th>\n",
       "      <td>2011-01-03</td>\n",
       "      <td>0</td>\n",
       "      <td>False</td>\n",
       "      <td>True</td>\n",
       "      <td>1</td>\n",
       "      <td>1</td>\n",
       "      <td>0.22</td>\n",
       "      <td>0.19699999999999998</td>\n",
       "      <td>0.44</td>\n",
       "      <td>0.3582</td>\n",
       "      <td>0</td>\n",
       "      <td>15</td>\n",
       "      <td>15</td>\n",
       "    </tr>\n",
       "    <tr>\n",
       "      <th>1</th>\n",
       "      <td>2011-01-03</td>\n",
       "      <td>1</td>\n",
       "      <td>False</td>\n",
       "      <td>True</td>\n",
       "      <td>1</td>\n",
       "      <td>1</td>\n",
       "      <td>0.20</td>\n",
       "      <td>0.1667</td>\n",
       "      <td>0.44</td>\n",
       "      <td>0.4179</td>\n",
       "      <td>0</td>\n",
       "      <td>6</td>\n",
       "      <td>6</td>\n",
       "    </tr>\n",
       "    <tr>\n",
       "      <th>2</th>\n",
       "      <td>2011-01-03</td>\n",
       "      <td>4</td>\n",
       "      <td>False</td>\n",
       "      <td>True</td>\n",
       "      <td>1</td>\n",
       "      <td>1</td>\n",
       "      <td>0.16</td>\n",
       "      <td>0.1364</td>\n",
       "      <td>0.47</td>\n",
       "      <td>0.3881</td>\n",
       "      <td>0</td>\n",
       "      <td>3</td>\n",
       "      <td>3</td>\n",
       "    </tr>\n",
       "    <tr>\n",
       "      <th>3</th>\n",
       "      <td>2011-01-03</td>\n",
       "      <td>5</td>\n",
       "      <td>False</td>\n",
       "      <td>True</td>\n",
       "      <td>1</td>\n",
       "      <td>1</td>\n",
       "      <td>0.16</td>\n",
       "      <td>0.1364</td>\n",
       "      <td>0.47</td>\n",
       "      <td>0.2836</td>\n",
       "      <td>0</td>\n",
       "      <td>9</td>\n",
       "      <td>9</td>\n",
       "    </tr>\n",
       "    <tr>\n",
       "      <th>4</th>\n",
       "      <td>2011-01-03</td>\n",
       "      <td>6</td>\n",
       "      <td>False</td>\n",
       "      <td>True</td>\n",
       "      <td>1</td>\n",
       "      <td>1</td>\n",
       "      <td>0.14</td>\n",
       "      <td>-</td>\n",
       "      <td>0.50</td>\n",
       "      <td>0.3881</td>\n",
       "      <td>0</td>\n",
       "      <td>90</td>\n",
       "      <td>90</td>\n",
       "    </tr>\n",
       "  </tbody>\n",
       "</table>\n",
       "</div>"
      ],
      "text/plain": [
       "        date hour holiday workingday weekday weather_type  temp  \\\n",
       "0 2011-01-03    0   False       True       1            1  0.22   \n",
       "1 2011-01-03    1   False       True       1            1  0.20   \n",
       "2 2011-01-03    4   False       True       1            1  0.16   \n",
       "3 2011-01-03    5   False       True       1            1  0.16   \n",
       "4 2011-01-03    6   False       True       1            1  0.14   \n",
       "\n",
       "                 ftemp  humidity  wind_speed  casual  subscribed  usage  \n",
       "0  0.19699999999999998      0.44      0.3582       0          15     15  \n",
       "1               0.1667      0.44      0.4179       0           6      6  \n",
       "2               0.1364      0.47      0.3881       0           3      3  \n",
       "3               0.1364      0.47      0.2836       0           9      9  \n",
       "4                    -      0.50      0.3881       0          90     90  "
      ]
     },
     "execution_count": 21,
     "metadata": {},
     "output_type": "execute_result"
    }
   ],
   "source": [
    "train_df = pd.read_csv(\"train.csv\",parse_dates=[\"date\"],\\\n",
    "                       dtype={\"hour\":object,\"holiday\":bool,\"workingday\":bool,\"weekday\":object,\"weather_type\":object}\n",
    "#                       na_values={\"ftemp\":\"-\"},\\\n",
    "                      )\n",
    "\n",
    "train_df.head()"
   ]
  },
  {
   "cell_type": "code",
   "execution_count": 22,
   "metadata": {
    "collapsed": false,
    "scrolled": true
   },
   "outputs": [
    {
     "name": "stdout",
     "output_type": "stream",
     "text": [
      "holiday\n",
      "False    175.949792\n",
      "True     206.072829\n",
      "Name: casual, dtype: float64\n",
      "holiday\n",
      "False    461.585134\n",
      "True     346.218487\n",
      "Name: subscribed, dtype: float64\n",
      "holiday\n",
      "False    637.534926\n",
      "True     552.291317\n",
      "Name: usage, dtype: float64\n"
     ]
    }
   ],
   "source": [
    "print(train_df.pivot_table(values='casual',index='holiday'),\\\n",
    "     train_df.pivot_table(values='subscribed',index='holiday'),\\\n",
    "     train_df.pivot_table(values='usage',index='holiday'),sep='\\n')"
   ]
  },
  {
   "cell_type": "code",
   "execution_count": 23,
   "metadata": {
    "collapsed": false
   },
   "outputs": [
    {
     "data": {
      "image/png": "[encoded data removed]",
      "text/plain": [
       "<matplotlib.figure.Figure at 0x128734cde48>"
      ]
     },
     "metadata": {},
     "output_type": "display_data"
    }
   ],
   "source": [
    "sns.countplot(train_df.weather_type);"
   ]
  },
  {
   "cell_type": "code",
   "execution_count": 24,
   "metadata": {
    "collapsed": false
   },
   "outputs": [
    {
     "data": {
      "text/plain": [
       "date            datetime64[ns]\n",
       "hour                    object\n",
       "holiday                   bool\n",
       "workingday                bool\n",
       "weekday                 object\n",
       "weather_type            object\n",
       "temp                   float64\n",
       "ftemp                   object\n",
       "humidity               float64\n",
       "wind_speed             float64\n",
       "casual                   int64\n",
       "subscribed               int64\n",
       "usage                    int64\n",
       "dtype: object"
      ]
     },
     "execution_count": 24,
     "metadata": {},
     "output_type": "execute_result"
    }
   ],
   "source": [
    "train_df.dtypes"
   ]
  },
  {
   "cell_type": "markdown",
   "metadata": {},
   "source": [
    "# 1. Data investigation"
   ]
  },
  {
   "cell_type": "code",
   "execution_count": 25,
   "metadata": {
    "collapsed": false,
    "scrolled": false
   },
   "outputs": [
    {
     "data": {
      "text/html": [
       "<div>\n",
       "<table border=\"1\" class=\"dataframe\">\n",
       "  <thead>\n",
       "    <tr style=\"text-align: right;\">\n",
       "      <th></th>\n",
       "      <th>holiday</th>\n",
       "      <th>workingday</th>\n",
       "      <th>temp</th>\n",
       "      <th>humidity</th>\n",
       "      <th>wind_speed</th>\n",
       "      <th>casual</th>\n",
       "      <th>subscribed</th>\n",
       "      <th>usage</th>\n",
       "    </tr>\n",
       "  </thead>\n",
       "  <tbody>\n",
       "    <tr>\n",
       "      <th>holiday</th>\n",
       "      <td>1.000000</td>\n",
       "      <td>-0.247877</td>\n",
       "      <td>-0.008131</td>\n",
       "      <td>0.006655</td>\n",
       "      <td>-0.019608</td>\n",
       "      <td>0.002130</td>\n",
       "      <td>-0.041417</td>\n",
       "      <td>-0.005842</td>\n",
       "    </tr>\n",
       "    <tr>\n",
       "      <th>workingday</th>\n",
       "      <td>-0.247877</td>\n",
       "      <td>1.000000</td>\n",
       "      <td>0.053103</td>\n",
       "      <td>0.025730</td>\n",
       "      <td>-0.004804</td>\n",
       "      <td>-0.015372</td>\n",
       "      <td>0.134013</td>\n",
       "      <td>0.010684</td>\n",
       "    </tr>\n",
       "    <tr>\n",
       "      <th>temp</th>\n",
       "      <td>-0.008131</td>\n",
       "      <td>0.053103</td>\n",
       "      <td>1.000000</td>\n",
       "      <td>-0.032506</td>\n",
       "      <td>-0.035742</td>\n",
       "      <td>0.040763</td>\n",
       "      <td>0.332923</td>\n",
       "      <td>0.103055</td>\n",
       "    </tr>\n",
       "    <tr>\n",
       "      <th>humidity</th>\n",
       "      <td>0.006655</td>\n",
       "      <td>0.025730</td>\n",
       "      <td>-0.032506</td>\n",
       "      <td>1.000000</td>\n",
       "      <td>-0.282958</td>\n",
       "      <td>-0.036357</td>\n",
       "      <td>-0.268173</td>\n",
       "      <td>-0.086425</td>\n",
       "    </tr>\n",
       "    <tr>\n",
       "      <th>wind_speed</th>\n",
       "      <td>-0.019608</td>\n",
       "      <td>-0.004804</td>\n",
       "      <td>-0.035742</td>\n",
       "      <td>-0.282958</td>\n",
       "      <td>1.000000</td>\n",
       "      <td>0.010544</td>\n",
       "      <td>0.080219</td>\n",
       "      <td>0.025531</td>\n",
       "    </tr>\n",
       "  </tbody>\n",
       "</table>\n",
       "</div>"
      ],
      "text/plain": [
       "             holiday  workingday      temp  humidity  wind_speed    casual  \\\n",
       "holiday     1.000000   -0.247877 -0.008131  0.006655   -0.019608  0.002130   \n",
       "workingday -0.247877    1.000000  0.053103  0.025730   -0.004804 -0.015372   \n",
       "temp       -0.008131    0.053103  1.000000 -0.032506   -0.035742  0.040763   \n",
       "humidity    0.006655    0.025730 -0.032506  1.000000   -0.282958 -0.036357   \n",
       "wind_speed -0.019608   -0.004804 -0.035742 -0.282958    1.000000  0.010544   \n",
       "\n",
       "            subscribed     usage  \n",
       "holiday      -0.041417 -0.005842  \n",
       "workingday    0.134013  0.010684  \n",
       "temp          0.332923  0.103055  \n",
       "humidity     -0.268173 -0.086425  \n",
       "wind_speed    0.080219  0.025531  "
      ]
     },
     "execution_count": 25,
     "metadata": {},
     "output_type": "execute_result"
    }
   ],
   "source": [
    "train_df.corr()[:\"wind_speed\"]"
   ]
  },
  {
   "cell_type": "code",
   "execution_count": 27,
   "metadata": {
    "collapsed": true
   },
   "outputs": [],
   "source": [
    "from sklearn.preprocessing import MinMaxScaler"
   ]
  },
  {
   "cell_type": "code",
   "execution_count": 31,
   "metadata": {
    "collapsed": false
   },
   "outputs": [
    {
     "name": "stderr",
     "output_type": "stream",
     "text": [
      "C:\\Anaconda3\\lib\\site-packages\\sklearn\\utils\\validation.py:420: DataConversionWarning: Data with input dtype int64 was converted to float64 by MinMaxScaler.\n",
      "  warnings.warn(msg, DataConversionWarning)\n"
     ]
    }
   ],
   "source": [
    "date_scaler = MinMaxScaler()\n",
    "train_df.date = date_scaler.fit_transform(train_df.date.astype(np.int64)[:,newaxis])"
   ]
  },
  {
   "cell_type": "code",
   "execution_count": 32,
   "metadata": {
    "collapsed": false
   },
   "outputs": [
    {
     "data": {
      "text/html": [
       "<div>\n",
       "<table border=\"1\" class=\"dataframe\">\n",
       "  <thead>\n",
       "    <tr style=\"text-align: right;\">\n",
       "      <th></th>\n",
       "      <th>date</th>\n",
       "      <th>hour</th>\n",
       "      <th>holiday</th>\n",
       "      <th>workingday</th>\n",
       "      <th>weekday</th>\n",
       "      <th>weather_type</th>\n",
       "      <th>temp</th>\n",
       "      <th>ftemp</th>\n",
       "      <th>humidity</th>\n",
       "      <th>wind_speed</th>\n",
       "      <th>casual</th>\n",
       "      <th>subscribed</th>\n",
       "      <th>usage</th>\n",
       "    </tr>\n",
       "  </thead>\n",
       "  <tbody>\n",
       "    <tr>\n",
       "      <th>0</th>\n",
       "      <td>0.0</td>\n",
       "      <td>0</td>\n",
       "      <td>False</td>\n",
       "      <td>True</td>\n",
       "      <td>1</td>\n",
       "      <td>1</td>\n",
       "      <td>0.22</td>\n",
       "      <td>0.19699999999999998</td>\n",
       "      <td>0.44</td>\n",
       "      <td>0.3582</td>\n",
       "      <td>0</td>\n",
       "      <td>15</td>\n",
       "      <td>15</td>\n",
       "    </tr>\n",
       "    <tr>\n",
       "      <th>1</th>\n",
       "      <td>0.0</td>\n",
       "      <td>1</td>\n",
       "      <td>False</td>\n",
       "      <td>True</td>\n",
       "      <td>1</td>\n",
       "      <td>1</td>\n",
       "      <td>0.20</td>\n",
       "      <td>0.1667</td>\n",
       "      <td>0.44</td>\n",
       "      <td>0.4179</td>\n",
       "      <td>0</td>\n",
       "      <td>6</td>\n",
       "      <td>6</td>\n",
       "    </tr>\n",
       "    <tr>\n",
       "      <th>2</th>\n",
       "      <td>0.0</td>\n",
       "      <td>4</td>\n",
       "      <td>False</td>\n",
       "      <td>True</td>\n",
       "      <td>1</td>\n",
       "      <td>1</td>\n",
       "      <td>0.16</td>\n",
       "      <td>0.1364</td>\n",
       "      <td>0.47</td>\n",
       "      <td>0.3881</td>\n",
       "      <td>0</td>\n",
       "      <td>3</td>\n",
       "      <td>3</td>\n",
       "    </tr>\n",
       "    <tr>\n",
       "      <th>3</th>\n",
       "      <td>0.0</td>\n",
       "      <td>5</td>\n",
       "      <td>False</td>\n",
       "      <td>True</td>\n",
       "      <td>1</td>\n",
       "      <td>1</td>\n",
       "      <td>0.16</td>\n",
       "      <td>0.1364</td>\n",
       "      <td>0.47</td>\n",
       "      <td>0.2836</td>\n",
       "      <td>0</td>\n",
       "      <td>9</td>\n",
       "      <td>9</td>\n",
       "    </tr>\n",
       "    <tr>\n",
       "      <th>4</th>\n",
       "      <td>0.0</td>\n",
       "      <td>6</td>\n",
       "      <td>False</td>\n",
       "      <td>True</td>\n",
       "      <td>1</td>\n",
       "      <td>1</td>\n",
       "      <td>0.14</td>\n",
       "      <td>-</td>\n",
       "      <td>0.50</td>\n",
       "      <td>0.3881</td>\n",
       "      <td>0</td>\n",
       "      <td>90</td>\n",
       "      <td>90</td>\n",
       "    </tr>\n",
       "  </tbody>\n",
       "</table>\n",
       "</div>"
      ],
      "text/plain": [
       "   date hour holiday workingday weekday weather_type  temp  \\\n",
       "0   0.0    0   False       True       1            1  0.22   \n",
       "1   0.0    1   False       True       1            1  0.20   \n",
       "2   0.0    4   False       True       1            1  0.16   \n",
       "3   0.0    5   False       True       1            1  0.16   \n",
       "4   0.0    6   False       True       1            1  0.14   \n",
       "\n",
       "                 ftemp  humidity  wind_speed  casual  subscribed  usage  \n",
       "0  0.19699999999999998      0.44      0.3582       0          15     15  \n",
       "1               0.1667      0.44      0.4179       0           6      6  \n",
       "2               0.1364      0.47      0.3881       0           3      3  \n",
       "3               0.1364      0.47      0.2836       0           9      9  \n",
       "4                    -      0.50      0.3881       0          90     90  "
      ]
     },
     "execution_count": 32,
     "metadata": {},
     "output_type": "execute_result"
    }
   ],
   "source": [
    "train_df.head()"
   ]
  },
  {
   "cell_type": "markdown",
   "metadata": {
    "collapsed": false
   },
   "source": [
    "train_df[\"date_bins\"] = pd.cut(train_df.date,10, labels=range(1,11))"
   ]
  },
  {
   "cell_type": "markdown",
   "metadata": {
    "collapsed": false
   },
   "source": [
    "f, axes = subplots(3,sharex=True)\n",
    "\n",
    "axes[0] = train_df.pivot_table(values=\"casual\",index=\"date_bins\",aggfunc=np.mean).plot.bar()\n",
    "axes[1] = train_df.pivot_table(values=\"subscribed\",index=\"date_bins\", aggfunc=np.mean).plot.bar()\n",
    "axes[2] = train_df.pivot_table(values=\"usage\",index=\"date_bins\", aggfunc=np.mean).plot.bar()"
   ]
  },
  {
   "cell_type": "markdown",
   "metadata": {},
   "source": [
    "# 2. Data Preprocessing"
   ]
  },
  {
   "cell_type": "code",
   "execution_count": 33,
   "metadata": {
    "collapsed": false
   },
   "outputs": [],
   "source": [
    "ftemp_nonna_df = train_df[train_df.ftemp != '-']\n",
    "ftemp_mean_dif = (ftemp_nonna_df.temp - ftemp_nonna_df.ftemp.astype(float)).mean()"
   ]
  },
  {
   "cell_type": "code",
   "execution_count": 34,
   "metadata": {
    "collapsed": true
   },
   "outputs": [],
   "source": [
    "train_df[\"ftemp_mean_diff\"] = train_df.ftemp\n",
    "train_df.loc[train_df.ftemp == '-', 'ftemp_mean_diff'] = train_df.temp - ftemp_mean_dif\n",
    "train_df[\"ftemp_mean_diff\"] = train_df.ftemp_mean_diff.astype(float)"
   ]
  },
  {
   "cell_type": "code",
   "execution_count": 35,
   "metadata": {
    "collapsed": false
   },
   "outputs": [],
   "source": [
    "train_df = pd.concat([train_df.loc[:,:\"ftemp\"], train_df.ftemp_mean_diff, train_df.loc[:,\"humidity\":\"usage\"]],axis=1)"
   ]
  },
  {
   "cell_type": "code",
   "execution_count": 36,
   "metadata": {
    "collapsed": false,
    "scrolled": true
   },
   "outputs": [
    {
     "data": {
      "text/html": [
       "<div>\n",
       "<table border=\"1\" class=\"dataframe\">\n",
       "  <thead>\n",
       "    <tr style=\"text-align: right;\">\n",
       "      <th></th>\n",
       "      <th>date</th>\n",
       "      <th>hour</th>\n",
       "      <th>holiday</th>\n",
       "      <th>workingday</th>\n",
       "      <th>weekday</th>\n",
       "      <th>weather_type</th>\n",
       "      <th>temp</th>\n",
       "      <th>ftemp</th>\n",
       "      <th>ftemp_mean_diff</th>\n",
       "      <th>humidity</th>\n",
       "      <th>wind_speed</th>\n",
       "      <th>casual</th>\n",
       "      <th>subscribed</th>\n",
       "      <th>usage</th>\n",
       "    </tr>\n",
       "  </thead>\n",
       "  <tbody>\n",
       "    <tr>\n",
       "      <th>0</th>\n",
       "      <td>0.0</td>\n",
       "      <td>0</td>\n",
       "      <td>False</td>\n",
       "      <td>True</td>\n",
       "      <td>1</td>\n",
       "      <td>1</td>\n",
       "      <td>0.22</td>\n",
       "      <td>0.19699999999999998</td>\n",
       "      <td>0.197000</td>\n",
       "      <td>0.44</td>\n",
       "      <td>0.3582</td>\n",
       "      <td>0</td>\n",
       "      <td>15</td>\n",
       "      <td>15</td>\n",
       "    </tr>\n",
       "    <tr>\n",
       "      <th>1</th>\n",
       "      <td>0.0</td>\n",
       "      <td>1</td>\n",
       "      <td>False</td>\n",
       "      <td>True</td>\n",
       "      <td>1</td>\n",
       "      <td>1</td>\n",
       "      <td>0.20</td>\n",
       "      <td>0.1667</td>\n",
       "      <td>0.166700</td>\n",
       "      <td>0.44</td>\n",
       "      <td>0.4179</td>\n",
       "      <td>0</td>\n",
       "      <td>6</td>\n",
       "      <td>6</td>\n",
       "    </tr>\n",
       "    <tr>\n",
       "      <th>2</th>\n",
       "      <td>0.0</td>\n",
       "      <td>4</td>\n",
       "      <td>False</td>\n",
       "      <td>True</td>\n",
       "      <td>1</td>\n",
       "      <td>1</td>\n",
       "      <td>0.16</td>\n",
       "      <td>0.1364</td>\n",
       "      <td>0.136400</td>\n",
       "      <td>0.47</td>\n",
       "      <td>0.3881</td>\n",
       "      <td>0</td>\n",
       "      <td>3</td>\n",
       "      <td>3</td>\n",
       "    </tr>\n",
       "    <tr>\n",
       "      <th>3</th>\n",
       "      <td>0.0</td>\n",
       "      <td>5</td>\n",
       "      <td>False</td>\n",
       "      <td>True</td>\n",
       "      <td>1</td>\n",
       "      <td>1</td>\n",
       "      <td>0.16</td>\n",
       "      <td>0.1364</td>\n",
       "      <td>0.136400</td>\n",
       "      <td>0.47</td>\n",
       "      <td>0.2836</td>\n",
       "      <td>0</td>\n",
       "      <td>9</td>\n",
       "      <td>9</td>\n",
       "    </tr>\n",
       "    <tr>\n",
       "      <th>4</th>\n",
       "      <td>0.0</td>\n",
       "      <td>6</td>\n",
       "      <td>False</td>\n",
       "      <td>True</td>\n",
       "      <td>1</td>\n",
       "      <td>1</td>\n",
       "      <td>0.14</td>\n",
       "      <td>-</td>\n",
       "      <td>0.119043</td>\n",
       "      <td>0.50</td>\n",
       "      <td>0.3881</td>\n",
       "      <td>0</td>\n",
       "      <td>90</td>\n",
       "      <td>90</td>\n",
       "    </tr>\n",
       "  </tbody>\n",
       "</table>\n",
       "</div>"
      ],
      "text/plain": [
       "   date hour holiday workingday weekday weather_type  temp  \\\n",
       "0   0.0    0   False       True       1            1  0.22   \n",
       "1   0.0    1   False       True       1            1  0.20   \n",
       "2   0.0    4   False       True       1            1  0.16   \n",
       "3   0.0    5   False       True       1            1  0.16   \n",
       "4   0.0    6   False       True       1            1  0.14   \n",
       "\n",
       "                 ftemp  ftemp_mean_diff  humidity  wind_speed  casual  \\\n",
       "0  0.19699999999999998         0.197000      0.44      0.3582       0   \n",
       "1               0.1667         0.166700      0.44      0.4179       0   \n",
       "2               0.1364         0.136400      0.47      0.3881       0   \n",
       "3               0.1364         0.136400      0.47      0.2836       0   \n",
       "4                    -         0.119043      0.50      0.3881       0   \n",
       "\n",
       "   subscribed  usage  \n",
       "0          15     15  \n",
       "1           6      6  \n",
       "2           3      3  \n",
       "3           9      9  \n",
       "4          90     90  "
      ]
     },
     "execution_count": 36,
     "metadata": {},
     "output_type": "execute_result"
    }
   ],
   "source": [
    "train_df.head()"
   ]
  },
  {
   "cell_type": "markdown",
   "metadata": {
    "collapsed": true
   },
   "source": [
    "from common.feature_transformations import get_one_hot_encoding\n",
    "\n",
    "train_df[\"datetime\"] = (train_df.date + train_df.hour.apply(lambda h: pd.DateOffset(hours=int(h)))).astype(int)\n",
    "\n",
    "get_one_hot_encoding(train_df.weekday).as_matrix()[:,:-1]\n",
    "\n",
    "holiday = get_one_hot_encoding(train_df.holiday).as_matrix()\n",
    "\n",
    "workingday = get_one_hot_encoding(train_df.workingday).as_matrix()\n",
    "\n",
    "hours = get_one_hot_encoding(train_df.hour).as_matrix()\n",
    "\n",
    "weekday = get_one_hot_encoding(train_df.weekday).as_matrix()\n",
    "\n",
    "weather_type = get_one_hot_encoding(train_df.weather_type).as_matrix()\n",
    "\n",
    "from scipy.sparse import csr_matrix\n",
    "\n",
    "discrete = scipy.sparse.hstack((csr_matrix(hours),\\\n",
    "                                csr_matrix(holiday),\\\n",
    "                                 csr_matrix(workingday),\\\n",
    "                                 csr_matrix(weekday),\\\n",
    "                                 csr_matrix(weather_type)))"
   ]
  },
  {
   "cell_type": "code",
   "execution_count": 37,
   "metadata": {
    "collapsed": true
   },
   "outputs": [],
   "source": [
    "discrete = pd.concat([train_df.hour.astype(int8),\\\n",
    "                      train_df.holiday,\\\n",
    "                      train_df.workingday,\\\n",
    "                      train_df.weekday.astype(int8)\n",
    "                     ],axis=1)"
   ]
  },
  {
   "cell_type": "code",
   "execution_count": 38,
   "metadata": {
    "collapsed": false
   },
   "outputs": [],
   "source": [
    "continious = train_df[[\"date\",\"temp\",\"ftemp_mean_diff\",\"humidity\",\"wind_speed\"]]"
   ]
  },
  {
   "cell_type": "code",
   "execution_count": 39,
   "metadata": {
    "collapsed": false
   },
   "outputs": [],
   "source": [
    "X_train = scipy.hstack((continious.as_matrix(),discrete.as_matrix()))"
   ]
  },
  {
   "cell_type": "code",
   "execution_count": 40,
   "metadata": {
    "collapsed": true
   },
   "outputs": [],
   "source": [
    "y_subscribed_train = train_df.subscribed\n",
    "y_casual_train = train_df.casual\n",
    "y_train = train_df.usage"
   ]
  },
  {
   "cell_type": "markdown",
   "metadata": {},
   "source": [
    "# 3. Model Tuning"
   ]
  },
  {
   "cell_type": "code",
   "execution_count": 42,
   "metadata": {
    "collapsed": false
   },
   "outputs": [],
   "source": [
    "from sklearn.tree import DecisionTreeRegressor\n",
    "from sklearn.svm import NuSVR,LinearSVR,SVR\n",
    "from sklearn.neighbors import KNeighborsRegressor\n",
    "from sklearn.linear_model import SGDRegressor\n",
    "# from xgboost import XGBRegressor"
   ]
  },
  {
   "cell_type": "code",
   "execution_count": 43,
   "metadata": {
    "collapsed": false
   },
   "outputs": [],
   "source": [
    "from sklearn.cross_validation import cross_val_score\n",
    "from sklearn.metrics import mean_absolute_error,r2_score"
   ]
  },
  {
   "cell_type": "code",
   "execution_count": 44,
   "metadata": {
    "collapsed": true
   },
   "outputs": [],
   "source": [
    "from sklearn.cross_validation import train_test_split"
   ]
  },
  {
   "cell_type": "code",
   "execution_count": 45,
   "metadata": {
    "collapsed": true
   },
   "outputs": [],
   "source": [
    "def MAE(est,X,y):\n",
    "    return mean_absolute_error(y,est.predict(X))\n",
    "\n",
    "def NegMAE(est,X,y):\n",
    "    return -MAE(est,X,y)\n",
    "\n",
    "def R2(est,X,y):\n",
    "    return r2_score(y,est.predict(X))\n",
    "\n",
    "def MAE_and_R2(est,X,y):\n",
    "    return (MAE(est,X,y),R2(est,X,y))"
   ]
  },
  {
   "cell_type": "code",
   "execution_count": 47,
   "metadata": {
    "collapsed": false
   },
   "outputs": [],
   "source": [
    "clfs = [DecisionTreeRegressor(),NuSVR(),LinearSVR(),SVR(),KNeighborsRegressor()]"
   ]
  },
  {
   "cell_type": "code",
   "execution_count": null,
   "metadata": {
    "collapsed": false,
    "scrolled": false
   },
   "outputs": [
    {
     "name": "stdout",
     "output_type": "stream",
     "text": [
      "subscribed:\n",
      "\t <class 'sklearn.tree.tree.DecisionTreeRegressor'>\n"
     ]
    }
   ],
   "source": [
    "for clf in clfs:\n",
    "    print(\"subscribed:\")\n",
    "    print(\"\t\",type(clf))\n",
    "    print(\"\t\tMAE\", cross_val_score(clf,X_train,y_subscribed_train,cv=10,n_jobs=-1,scoring=MAE).mean())\n",
    "    print(\"\t\tR2\", cross_val_score(clf,X_train,y_subscribed_train,cv=10,n_jobs=-1,scoring=R2).mean())\n",
    "    print(\"casual:\")\n",
    "    print(\"\t\",type(clf))\n",
    "    print(\"\t\tMAE\", cross_val_score(clf,X_train,y_casual_train,cv=10,n_jobs=-1,scoring=MAE).mean())\n",
    "    print(\"\t\tR2\", cross_val_score(clf,X_train,y_casual_train,cv=10,n_jobs=-1,scoring=R2).mean())"
   ]
  },
  {
   "cell_type": "code",
   "execution_count": 33,
   "metadata": {
    "collapsed": true
   },
   "outputs": [],
   "source": [
    "from sklearn.model_selection import GridSearchCV"
   ]
  },
  {
   "cell_type": "code",
   "execution_count": 34,
   "metadata": {
    "collapsed": false
   },
   "outputs": [
    {
     "data": {
      "text/plain": [
       "{'n_neighbors': 2}"
      ]
     },
     "execution_count": 34,
     "metadata": {},
     "output_type": "execute_result"
    }
   ],
   "source": [
    "grid = GridSearchCV(KNeighborsRegressor(),param_grid={\"n_neighbors\": range(1,50,1)},cv=10,scoring=NegMAE,n_jobs=-1)\n",
    "grid.fit(X_train,y_casual_train)\n",
    "\n",
    "grid.best_params_"
   ]
  },
  {
   "cell_type": "code",
   "execution_count": 35,
   "metadata": {
    "collapsed": false
   },
   "outputs": [
    {
     "data": {
      "text/plain": [
       "{'n_neighbors': 18}"
      ]
     },
     "execution_count": 35,
     "metadata": {},
     "output_type": "execute_result"
    }
   ],
   "source": [
    "grid.fit(X_train,y_subscribed_train)\n",
    "\n",
    "grid.best_params_"
   ]
  },
  {
   "cell_type": "code",
   "execution_count": 26,
   "metadata": {
    "collapsed": false,
    "scrolled": true
   },
   "outputs": [
    {
     "data": {
      "text/plain": [
       "KNeighborsRegressor(algorithm='auto', leaf_size=30, metric='minkowski',\n",
       "          metric_params=None, n_jobs=1, n_neighbors=18, p=2,\n",
       "          weights='uniform')"
      ]
     },
     "execution_count": 26,
     "metadata": {},
     "output_type": "execute_result"
    }
   ],
   "source": [
    "casual_clf = KNeighborsRegressor(n_neighbors=2)\n",
    "casual_clf.fit(X_train,y_casual_train)\n",
    "subscribed_clf = KNeighborsRegressor(n_neighbors=18)\n",
    "subscribed_clf.fit(X_train,y_subscribed_train)"
   ]
  },
  {
   "cell_type": "markdown",
   "metadata": {},
   "source": [
    "# Prediction"
   ]
  },
  {
   "cell_type": "code",
   "execution_count": 27,
   "metadata": {
    "collapsed": false
   },
   "outputs": [
    {
     "data": {
      "text/html": [
       "<div>\n",
       "<table border=\"1\" class=\"dataframe\">\n",
       "  <thead>\n",
       "    <tr style=\"text-align: right;\">\n",
       "      <th></th>\n",
       "      <th>Id</th>\n",
       "      <th>date</th>\n",
       "      <th>hour</th>\n",
       "      <th>holiday</th>\n",
       "      <th>workingday</th>\n",
       "      <th>weekday</th>\n",
       "      <th>weather_type</th>\n",
       "      <th>temp</th>\n",
       "      <th>ftemp</th>\n",
       "      <th>humidity</th>\n",
       "      <th>wind_speed</th>\n",
       "    </tr>\n",
       "  </thead>\n",
       "  <tbody>\n",
       "    <tr>\n",
       "      <th>0</th>\n",
       "      <td>0</td>\n",
       "      <td>2011-01-01</td>\n",
       "      <td>0</td>\n",
       "      <td>0</td>\n",
       "      <td>0</td>\n",
       "      <td>6</td>\n",
       "      <td>1</td>\n",
       "      <td>0.24</td>\n",
       "      <td>-</td>\n",
       "      <td>0.81</td>\n",
       "      <td>0.0</td>\n",
       "    </tr>\n",
       "    <tr>\n",
       "      <th>1</th>\n",
       "      <td>1</td>\n",
       "      <td>2011-01-01</td>\n",
       "      <td>1</td>\n",
       "      <td>0</td>\n",
       "      <td>0</td>\n",
       "      <td>6</td>\n",
       "      <td>1</td>\n",
       "      <td>0.22</td>\n",
       "      <td>0.2727</td>\n",
       "      <td>0.80</td>\n",
       "      <td>0.0</td>\n",
       "    </tr>\n",
       "    <tr>\n",
       "      <th>2</th>\n",
       "      <td>2</td>\n",
       "      <td>2011-01-01</td>\n",
       "      <td>2</td>\n",
       "      <td>0</td>\n",
       "      <td>0</td>\n",
       "      <td>6</td>\n",
       "      <td>1</td>\n",
       "      <td>0.22</td>\n",
       "      <td>-</td>\n",
       "      <td>0.80</td>\n",
       "      <td>0.0</td>\n",
       "    </tr>\n",
       "    <tr>\n",
       "      <th>3</th>\n",
       "      <td>3</td>\n",
       "      <td>2011-01-01</td>\n",
       "      <td>3</td>\n",
       "      <td>0</td>\n",
       "      <td>0</td>\n",
       "      <td>6</td>\n",
       "      <td>1</td>\n",
       "      <td>0.24</td>\n",
       "      <td>0.2879</td>\n",
       "      <td>0.75</td>\n",
       "      <td>0.0</td>\n",
       "    </tr>\n",
       "    <tr>\n",
       "      <th>4</th>\n",
       "      <td>4</td>\n",
       "      <td>2011-01-01</td>\n",
       "      <td>4</td>\n",
       "      <td>0</td>\n",
       "      <td>0</td>\n",
       "      <td>6</td>\n",
       "      <td>1</td>\n",
       "      <td>0.24</td>\n",
       "      <td>0.2879</td>\n",
       "      <td>0.75</td>\n",
       "      <td>0.0</td>\n",
       "    </tr>\n",
       "  </tbody>\n",
       "</table>\n",
       "</div>"
      ],
      "text/plain": [
       "   Id       date  hour  holiday  workingday  weekday  weather_type  temp  \\\n",
       "0   0 2011-01-01     0        0           0        6             1  0.24   \n",
       "1   1 2011-01-01     1        0           0        6             1  0.22   \n",
       "2   2 2011-01-01     2        0           0        6             1  0.22   \n",
       "3   3 2011-01-01     3        0           0        6             1  0.24   \n",
       "4   4 2011-01-01     4        0           0        6             1  0.24   \n",
       "\n",
       "    ftemp  humidity  wind_speed  \n",
       "0       -      0.81         0.0  \n",
       "1  0.2727      0.80         0.0  \n",
       "2       -      0.80         0.0  \n",
       "3  0.2879      0.75         0.0  \n",
       "4  0.2879      0.75         0.0  "
      ]
     },
     "execution_count": 27,
     "metadata": {},
     "output_type": "execute_result"
    }
   ],
   "source": [
    "test_df = pd.read_csv('test.csv',parse_dates=[\"date\"])\n",
    "test_df.head()"
   ]
  },
  {
   "cell_type": "code",
   "execution_count": 28,
   "metadata": {
    "collapsed": false
   },
   "outputs": [],
   "source": [
    "test_df[\"date\"] = date_scaler.transform(test_df.date.astype(int)[:,newaxis])"
   ]
  },
  {
   "cell_type": "code",
   "execution_count": 29,
   "metadata": {
    "collapsed": false
   },
   "outputs": [],
   "source": [
    "test_df[\"ftemp_mean_diff\"] = test_df.ftemp\n",
    "test_df.loc[test_df.ftemp == '-', 'ftemp_mean_diff'] = test_df.temp - ftemp_mean_dif\n",
    "test_df[\"ftemp_mean_diff\"] = test_df.ftemp_mean_diff.astype(float)"
   ]
  },
  {
   "cell_type": "code",
   "execution_count": 30,
   "metadata": {
    "collapsed": false
   },
   "outputs": [
    {
     "data": {
      "text/html": [
       "<div>\n",
       "<table border=\"1\" class=\"dataframe\">\n",
       "  <thead>\n",
       "    <tr style=\"text-align: right;\">\n",
       "      <th></th>\n",
       "      <th>Id</th>\n",
       "      <th>date</th>\n",
       "      <th>hour</th>\n",
       "      <th>holiday</th>\n",
       "      <th>workingday</th>\n",
       "      <th>weekday</th>\n",
       "      <th>weather_type</th>\n",
       "      <th>temp</th>\n",
       "      <th>ftemp</th>\n",
       "      <th>humidity</th>\n",
       "      <th>wind_speed</th>\n",
       "      <th>ftemp_mean_diff</th>\n",
       "    </tr>\n",
       "  </thead>\n",
       "  <tbody>\n",
       "    <tr>\n",
       "      <th>0</th>\n",
       "      <td>0</td>\n",
       "      <td>-0.002755</td>\n",
       "      <td>0</td>\n",
       "      <td>0</td>\n",
       "      <td>0</td>\n",
       "      <td>6</td>\n",
       "      <td>1</td>\n",
       "      <td>0.24</td>\n",
       "      <td>-</td>\n",
       "      <td>0.81</td>\n",
       "      <td>0.0</td>\n",
       "      <td>0.219043</td>\n",
       "    </tr>\n",
       "    <tr>\n",
       "      <th>1</th>\n",
       "      <td>1</td>\n",
       "      <td>-0.002755</td>\n",
       "      <td>1</td>\n",
       "      <td>0</td>\n",
       "      <td>0</td>\n",
       "      <td>6</td>\n",
       "      <td>1</td>\n",
       "      <td>0.22</td>\n",
       "      <td>0.2727</td>\n",
       "      <td>0.80</td>\n",
       "      <td>0.0</td>\n",
       "      <td>0.272700</td>\n",
       "    </tr>\n",
       "    <tr>\n",
       "      <th>2</th>\n",
       "      <td>2</td>\n",
       "      <td>-0.002755</td>\n",
       "      <td>2</td>\n",
       "      <td>0</td>\n",
       "      <td>0</td>\n",
       "      <td>6</td>\n",
       "      <td>1</td>\n",
       "      <td>0.22</td>\n",
       "      <td>-</td>\n",
       "      <td>0.80</td>\n",
       "      <td>0.0</td>\n",
       "      <td>0.199043</td>\n",
       "    </tr>\n",
       "    <tr>\n",
       "      <th>3</th>\n",
       "      <td>3</td>\n",
       "      <td>-0.002755</td>\n",
       "      <td>3</td>\n",
       "      <td>0</td>\n",
       "      <td>0</td>\n",
       "      <td>6</td>\n",
       "      <td>1</td>\n",
       "      <td>0.24</td>\n",
       "      <td>0.2879</td>\n",
       "      <td>0.75</td>\n",
       "      <td>0.0</td>\n",
       "      <td>0.287900</td>\n",
       "    </tr>\n",
       "    <tr>\n",
       "      <th>4</th>\n",
       "      <td>4</td>\n",
       "      <td>-0.002755</td>\n",
       "      <td>4</td>\n",
       "      <td>0</td>\n",
       "      <td>0</td>\n",
       "      <td>6</td>\n",
       "      <td>1</td>\n",
       "      <td>0.24</td>\n",
       "      <td>0.2879</td>\n",
       "      <td>0.75</td>\n",
       "      <td>0.0</td>\n",
       "      <td>0.287900</td>\n",
       "    </tr>\n",
       "  </tbody>\n",
       "</table>\n",
       "</div>"
      ],
      "text/plain": [
       "   Id      date  hour  holiday  workingday  weekday  weather_type  temp  \\\n",
       "0   0 -0.002755     0        0           0        6             1  0.24   \n",
       "1   1 -0.002755     1        0           0        6             1  0.22   \n",
       "2   2 -0.002755     2        0           0        6             1  0.22   \n",
       "3   3 -0.002755     3        0           0        6             1  0.24   \n",
       "4   4 -0.002755     4        0           0        6             1  0.24   \n",
       "\n",
       "    ftemp  humidity  wind_speed  ftemp_mean_diff  \n",
       "0       -      0.81         0.0         0.219043  \n",
       "1  0.2727      0.80         0.0         0.272700  \n",
       "2       -      0.80         0.0         0.199043  \n",
       "3  0.2879      0.75         0.0         0.287900  \n",
       "4  0.2879      0.75         0.0         0.287900  "
      ]
     },
     "execution_count": 30,
     "metadata": {},
     "output_type": "execute_result"
    }
   ],
   "source": [
    "test_df.head()"
   ]
  },
  {
   "cell_type": "code",
   "execution_count": 31,
   "metadata": {
    "collapsed": false
   },
   "outputs": [],
   "source": [
    "X_test = scipy.hstack((test_df[[\"date\",\"temp\",\"ftemp_mean_diff\",\"humidity\",\"wind_speed\"]].as_matrix(),\\\n",
    "                       pd.concat([test_df.hour.astype(int8),\\\n",
    "                                  test_df.holiday,\\\n",
    "                                  test_df.workingday,\\\n",
    "                                  test_df.weekday.astype(int8)\\\n",
    "                                 ],axis=1).as_matrix()))"
   ]
  },
  {
   "cell_type": "code",
   "execution_count": 32,
   "metadata": {
    "collapsed": false
   },
   "outputs": [],
   "source": [
    "res = scipy.hstack([test_df.Id.as_matrix()[:,newaxis],\\\n",
    "                    (casual_clf.predict(X_test) + subscribed_clf.predict(X_test))[:,newaxis]])"
   ]
  },
  {
   "cell_type": "code",
   "execution_count": 33,
   "metadata": {
    "collapsed": false
   },
   "outputs": [
    {
     "data": {
      "text/html": [
       "<div>\n",
       "<table border=\"1\" class=\"dataframe\">\n",
       "  <thead>\n",
       "    <tr style=\"text-align: right;\">\n",
       "      <th></th>\n",
       "      <th>Id</th>\n",
       "      <th>Expected</th>\n",
       "    </tr>\n",
       "  </thead>\n",
       "  <tbody>\n",
       "    <tr>\n",
       "      <th>0</th>\n",
       "      <td>0</td>\n",
       "      <td>125.000000</td>\n",
       "    </tr>\n",
       "    <tr>\n",
       "      <th>1</th>\n",
       "      <td>1</td>\n",
       "      <td>115.833333</td>\n",
       "    </tr>\n",
       "    <tr>\n",
       "      <th>2</th>\n",
       "      <td>2</td>\n",
       "      <td>85.333333</td>\n",
       "    </tr>\n",
       "    <tr>\n",
       "      <th>3</th>\n",
       "      <td>3</td>\n",
       "      <td>34.500000</td>\n",
       "    </tr>\n",
       "    <tr>\n",
       "      <th>4</th>\n",
       "      <td>4</td>\n",
       "      <td>16.333333</td>\n",
       "    </tr>\n",
       "  </tbody>\n",
       "</table>\n",
       "</div>"
      ],
      "text/plain": [
       "   Id    Expected\n",
       "0   0  125.000000\n",
       "1   1  115.833333\n",
       "2   2   85.333333\n",
       "3   3   34.500000\n",
       "4   4   16.333333"
      ]
     },
     "execution_count": 33,
     "metadata": {},
     "output_type": "execute_result"
    }
   ],
   "source": [
    "res_df = pd.DataFrame(data=res,columns=['Id','Expected'])\n",
    "res_df.Id = res_df.Id.astype(int)\n",
    "res_df.head()"
   ]
  },
  {
   "cell_type": "code",
   "execution_count": 36,
   "metadata": {
    "collapsed": true
   },
   "outputs": [],
   "source": [
    "res_df.to_csv('submission.csv',index=False)"
   ]
  }
 ],
 "metadata": {
  "anaconda-cloud": {},
  "kernelspec": {
   "display_name": "Python [Root]",
   "language": "python",
   "name": "Python [Root]"
  },
  "language_info": {
   "codemirror_mode": {
    "name": "ipython",
    "version": 3
   },
   "file_extension": ".py",
   "mimetype": "text/x-python",
   "name": "python",
   "nbconvert_exporter": "python",
   "pygments_lexer": "ipython3",
   "version": "3.5.2"
  }
 },
 "nbformat": 4,
 "nbformat_minor": 0
}
