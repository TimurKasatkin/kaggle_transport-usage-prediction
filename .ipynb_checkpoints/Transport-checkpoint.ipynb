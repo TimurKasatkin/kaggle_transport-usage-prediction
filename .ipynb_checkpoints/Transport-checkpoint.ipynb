{
 "cells": [
  {
   "cell_type": "code",
   "execution_count": 4,
   "metadata": {
    "collapsed": false
   },
   "outputs": [
    {
     "name": "stdout",
     "output_type": "stream",
     "text": [
      "Populating the interactive namespace from numpy and matplotlib\n"
     ]
    }
   ],
   "source": [
    "%pylab inline  "
   ]
  },
  {
   "cell_type": "code",
   "execution_count": 5,
   "metadata": {
    "collapsed": false
   },
   "outputs": [],
   "source": [
    "import pandas as pd\n",
    "import sklearn as skl\n",
    "import scipy\n",
    "import sys\n",
    "import pandas as pd\n",
    "from matplotlib import pyplot as plt\n",
    "import numpy as np\n",
    "import pylab as pl\n",
    "import seaborn as sns\n",
    "from datetime import date\n",
    "from sklearn.neighbors import KNeighborsRegressor\n",
    "from sklearn import grid_search\n",
    "from sklearn.cross_validation import train_test_split\n",
    "from sklearn.preprocessing import MinMaxScaler\n",
    "from sklearn import linear_model\n",
    "from sklearn.metrics import mean_absolute_error\n",
    "from sklearn.metrics import r2_score\n",
    "from sklearn.model_selection import KFold, cross_val_score\n",
    "from sklearn import ensemble"
   ]
  },
  {
   "cell_type": "code",
   "execution_count": 6,
   "metadata": {
    "collapsed": false
   },
   "outputs": [],
   "source": [
    "data = pd.read_csv('train.csv', parse_dates=[\"date\"])"
   ]
  },
  {
   "cell_type": "code",
   "execution_count": 7,
   "metadata": {
    "collapsed": false
   },
   "outputs": [
    {
     "name": "stdout",
     "output_type": "stream",
     "text": [
      "Amount absent values 'ftemp': 25.138 %\n"
     ]
    },
    {
     "data": {
      "text/html": [
       "<div>\n",
       "<table border=\"1\" class=\"dataframe\">\n",
       "  <thead>\n",
       "    <tr style=\"text-align: right;\">\n",
       "      <th></th>\n",
       "      <th>date</th>\n",
       "      <th>hour</th>\n",
       "      <th>holiday</th>\n",
       "      <th>workingday</th>\n",
       "      <th>weekday</th>\n",
       "      <th>weather_type</th>\n",
       "      <th>temp</th>\n",
       "      <th>ftemp</th>\n",
       "      <th>humidity</th>\n",
       "      <th>wind_speed</th>\n",
       "      <th>casual</th>\n",
       "      <th>subscribed</th>\n",
       "      <th>usage</th>\n",
       "    </tr>\n",
       "  </thead>\n",
       "  <tbody>\n",
       "    <tr>\n",
       "      <th>0</th>\n",
       "      <td>2011-01-03</td>\n",
       "      <td>0</td>\n",
       "      <td>0</td>\n",
       "      <td>1</td>\n",
       "      <td>1</td>\n",
       "      <td>1</td>\n",
       "      <td>0.22</td>\n",
       "      <td>0.19699999999999998</td>\n",
       "      <td>0.44</td>\n",
       "      <td>0.3582</td>\n",
       "      <td>0</td>\n",
       "      <td>15</td>\n",
       "      <td>15</td>\n",
       "    </tr>\n",
       "    <tr>\n",
       "      <th>1</th>\n",
       "      <td>2011-01-03</td>\n",
       "      <td>1</td>\n",
       "      <td>0</td>\n",
       "      <td>1</td>\n",
       "      <td>1</td>\n",
       "      <td>1</td>\n",
       "      <td>0.20</td>\n",
       "      <td>0.1667</td>\n",
       "      <td>0.44</td>\n",
       "      <td>0.4179</td>\n",
       "      <td>0</td>\n",
       "      <td>6</td>\n",
       "      <td>6</td>\n",
       "    </tr>\n",
       "    <tr>\n",
       "      <th>2</th>\n",
       "      <td>2011-01-03</td>\n",
       "      <td>4</td>\n",
       "      <td>0</td>\n",
       "      <td>1</td>\n",
       "      <td>1</td>\n",
       "      <td>1</td>\n",
       "      <td>0.16</td>\n",
       "      <td>0.1364</td>\n",
       "      <td>0.47</td>\n",
       "      <td>0.3881</td>\n",
       "      <td>0</td>\n",
       "      <td>3</td>\n",
       "      <td>3</td>\n",
       "    </tr>\n",
       "    <tr>\n",
       "      <th>3</th>\n",
       "      <td>2011-01-03</td>\n",
       "      <td>5</td>\n",
       "      <td>0</td>\n",
       "      <td>1</td>\n",
       "      <td>1</td>\n",
       "      <td>1</td>\n",
       "      <td>0.16</td>\n",
       "      <td>0.1364</td>\n",
       "      <td>0.47</td>\n",
       "      <td>0.2836</td>\n",
       "      <td>0</td>\n",
       "      <td>9</td>\n",
       "      <td>9</td>\n",
       "    </tr>\n",
       "    <tr>\n",
       "      <th>4</th>\n",
       "      <td>2011-01-03</td>\n",
       "      <td>6</td>\n",
       "      <td>0</td>\n",
       "      <td>1</td>\n",
       "      <td>1</td>\n",
       "      <td>1</td>\n",
       "      <td>0.14</td>\n",
       "      <td>-</td>\n",
       "      <td>0.50</td>\n",
       "      <td>0.3881</td>\n",
       "      <td>0</td>\n",
       "      <td>90</td>\n",
       "      <td>90</td>\n",
       "    </tr>\n",
       "  </tbody>\n",
       "</table>\n",
       "</div>"
      ],
      "text/plain": [
       "        date  hour  holiday  workingday  weekday  weather_type  temp  \\\n",
       "0 2011-01-03     0        0           1        1             1  0.22   \n",
       "1 2011-01-03     1        0           1        1             1  0.20   \n",
       "2 2011-01-03     4        0           1        1             1  0.16   \n",
       "3 2011-01-03     5        0           1        1             1  0.16   \n",
       "4 2011-01-03     6        0           1        1             1  0.14   \n",
       "\n",
       "                 ftemp  humidity  wind_speed  casual  subscribed  usage  \n",
       "0  0.19699999999999998      0.44      0.3582       0          15     15  \n",
       "1               0.1667      0.44      0.4179       0           6      6  \n",
       "2               0.1364      0.47      0.3881       0           3      3  \n",
       "3               0.1364      0.47      0.2836       0           9      9  \n",
       "4                    -      0.50      0.3881       0          90     90  "
      ]
     },
     "execution_count": 7,
     "metadata": {},
     "output_type": "execute_result"
    }
   ],
   "source": [
    "print(\"Amount absent values 'ftemp': %.3f\" % (len(data[data.ftemp == '-']) / len(data) * 100), '%')\n",
    "data.head()"
   ]
  },
  {
   "cell_type": "code",
   "execution_count": 8,
   "metadata": {
    "collapsed": false
   },
   "outputs": [
    {
     "data": {
      "text/plain": [
       "0.02095721286370588"
      ]
     },
     "execution_count": 8,
     "metadata": {},
     "output_type": "execute_result"
    }
   ],
   "source": [
    "known_ftemp = data[data.ftemp != '-']\n",
    "medium_diff = np.mean(known_ftemp.temp - known_ftemp.ftemp.astype(float))\n",
    "medium_diff"
   ]
  },
  {
   "cell_type": "code",
   "execution_count": 9,
   "metadata": {
    "collapsed": false
   },
   "outputs": [],
   "source": [
    "data.loc[data.ftemp == '-', 'ftemp'] = (data.temp - medium_diff).astype(np.float)\n",
    "data.ftemp = data.ftemp.astype(float)"
   ]
  },
  {
   "cell_type": "code",
   "execution_count": 10,
   "metadata": {
    "collapsed": false
   },
   "outputs": [
    {
     "name": "stderr",
     "output_type": "stream",
     "text": [
      "C:\\Anaconda3\\lib\\site-packages\\sklearn\\utils\\validation.py:429: DataConversionWarning: Data with input dtype int64 was converted to float64 by MinMaxScaler.\n",
      "  warnings.warn(msg, _DataConversionWarning)\n"
     ]
    }
   ],
   "source": [
    "date_scaler = MinMaxScaler()\n",
    "data.date = date_scaler.fit_transform(data.date.astype(np.int64)[:,np.newaxis])"
   ]
  },
  {
   "cell_type": "code",
   "execution_count": 11,
   "metadata": {
    "collapsed": false
   },
   "outputs": [
    {
     "data": {
      "text/plain": [
       "date            float64\n",
       "hour              int64\n",
       "holiday           int64\n",
       "workingday        int64\n",
       "weekday           int64\n",
       "weather_type      int64\n",
       "temp            float64\n",
       "ftemp           float64\n",
       "humidity        float64\n",
       "wind_speed      float64\n",
       "casual            int64\n",
       "subscribed        int64\n",
       "usage             int64\n",
       "dtype: object"
      ]
     },
     "execution_count": 11,
     "metadata": {},
     "output_type": "execute_result"
    }
   ],
   "source": [
    "data.dtypes"
   ]
  },
  {
   "cell_type": "code",
   "execution_count": 12,
   "metadata": {
    "collapsed": false
   },
   "outputs": [
    {
     "data": {
      "text/html": [
       "<div>\n",
       "<table border=\"1\" class=\"dataframe\">\n",
       "  <thead>\n",
       "    <tr style=\"text-align: right;\">\n",
       "      <th></th>\n",
       "      <th>date</th>\n",
       "      <th>hour</th>\n",
       "      <th>holiday</th>\n",
       "      <th>workingday</th>\n",
       "      <th>weekday</th>\n",
       "      <th>weather_type</th>\n",
       "      <th>temp</th>\n",
       "      <th>ftemp</th>\n",
       "      <th>humidity</th>\n",
       "      <th>wind_speed</th>\n",
       "      <th>casual</th>\n",
       "      <th>subscribed</th>\n",
       "      <th>usage</th>\n",
       "    </tr>\n",
       "  </thead>\n",
       "  <tbody>\n",
       "    <tr>\n",
       "      <th>date</th>\n",
       "      <td>1.000000</td>\n",
       "      <td>-0.008203</td>\n",
       "      <td>0.057832</td>\n",
       "      <td>-0.010183</td>\n",
       "      <td>0.001374</td>\n",
       "      <td>-0.023054</td>\n",
       "      <td>0.131941</td>\n",
       "      <td>0.134037</td>\n",
       "      <td>-0.001135</td>\n",
       "      <td>-0.057246</td>\n",
       "      <td>0.007197</td>\n",
       "      <td>0.278399</td>\n",
       "      <td>0.060117</td>\n",
       "    </tr>\n",
       "    <tr>\n",
       "      <th>hour</th>\n",
       "      <td>-0.008203</td>\n",
       "      <td>1.000000</td>\n",
       "      <td>0.000468</td>\n",
       "      <td>0.002209</td>\n",
       "      <td>-0.003679</td>\n",
       "      <td>-0.029682</td>\n",
       "      <td>0.131916</td>\n",
       "      <td>0.129875</td>\n",
       "      <td>-0.271771</td>\n",
       "      <td>0.127540</td>\n",
       "      <td>0.028011</td>\n",
       "      <td>0.371302</td>\n",
       "      <td>0.098023</td>\n",
       "    </tr>\n",
       "    <tr>\n",
       "      <th>holiday</th>\n",
       "      <td>0.057832</td>\n",
       "      <td>0.000468</td>\n",
       "      <td>1.000000</td>\n",
       "      <td>-0.247877</td>\n",
       "      <td>-0.094536</td>\n",
       "      <td>-0.013434</td>\n",
       "      <td>-0.008131</td>\n",
       "      <td>-0.009728</td>\n",
       "      <td>0.006655</td>\n",
       "      <td>-0.019608</td>\n",
       "      <td>0.002130</td>\n",
       "      <td>-0.041417</td>\n",
       "      <td>-0.005842</td>\n",
       "    </tr>\n",
       "    <tr>\n",
       "      <th>workingday</th>\n",
       "      <td>-0.010183</td>\n",
       "      <td>0.002209</td>\n",
       "      <td>-0.247877</td>\n",
       "      <td>1.000000</td>\n",
       "      <td>0.036898</td>\n",
       "      <td>0.057356</td>\n",
       "      <td>0.053103</td>\n",
       "      <td>0.054914</td>\n",
       "      <td>0.025730</td>\n",
       "      <td>-0.004804</td>\n",
       "      <td>-0.015372</td>\n",
       "      <td>0.134013</td>\n",
       "      <td>0.010684</td>\n",
       "    </tr>\n",
       "    <tr>\n",
       "      <th>weekday</th>\n",
       "      <td>0.001374</td>\n",
       "      <td>-0.003679</td>\n",
       "      <td>-0.094536</td>\n",
       "      <td>0.036898</td>\n",
       "      <td>1.000000</td>\n",
       "      <td>0.000816</td>\n",
       "      <td>0.000837</td>\n",
       "      <td>-0.004317</td>\n",
       "      <td>-0.043147</td>\n",
       "      <td>0.025951</td>\n",
       "      <td>-0.000206</td>\n",
       "      <td>0.015390</td>\n",
       "      <td>0.002738</td>\n",
       "    </tr>\n",
       "    <tr>\n",
       "      <th>weather_type</th>\n",
       "      <td>-0.023054</td>\n",
       "      <td>-0.029682</td>\n",
       "      <td>-0.013434</td>\n",
       "      <td>0.057356</td>\n",
       "      <td>0.000816</td>\n",
       "      <td>1.000000</td>\n",
       "      <td>-0.083150</td>\n",
       "      <td>-0.087013</td>\n",
       "      <td>0.417010</td>\n",
       "      <td>0.044447</td>\n",
       "      <td>-0.015864</td>\n",
       "      <td>-0.131915</td>\n",
       "      <td>-0.040555</td>\n",
       "    </tr>\n",
       "    <tr>\n",
       "      <th>temp</th>\n",
       "      <td>0.131941</td>\n",
       "      <td>0.131916</td>\n",
       "      <td>-0.008131</td>\n",
       "      <td>0.053103</td>\n",
       "      <td>0.000837</td>\n",
       "      <td>-0.083150</td>\n",
       "      <td>1.000000</td>\n",
       "      <td>0.993252</td>\n",
       "      <td>-0.032506</td>\n",
       "      <td>-0.035742</td>\n",
       "      <td>0.040763</td>\n",
       "      <td>0.332923</td>\n",
       "      <td>0.103055</td>\n",
       "    </tr>\n",
       "    <tr>\n",
       "      <th>ftemp</th>\n",
       "      <td>0.134037</td>\n",
       "      <td>0.129875</td>\n",
       "      <td>-0.009728</td>\n",
       "      <td>0.054914</td>\n",
       "      <td>-0.004317</td>\n",
       "      <td>-0.087013</td>\n",
       "      <td>0.993252</td>\n",
       "      <td>1.000000</td>\n",
       "      <td>-0.022837</td>\n",
       "      <td>-0.064100</td>\n",
       "      <td>0.040860</td>\n",
       "      <td>0.332542</td>\n",
       "      <td>0.103076</td>\n",
       "    </tr>\n",
       "    <tr>\n",
       "      <th>humidity</th>\n",
       "      <td>-0.001135</td>\n",
       "      <td>-0.271771</td>\n",
       "      <td>0.006655</td>\n",
       "      <td>0.025730</td>\n",
       "      <td>-0.043147</td>\n",
       "      <td>0.417010</td>\n",
       "      <td>-0.032506</td>\n",
       "      <td>-0.022837</td>\n",
       "      <td>1.000000</td>\n",
       "      <td>-0.282958</td>\n",
       "      <td>-0.036357</td>\n",
       "      <td>-0.268173</td>\n",
       "      <td>-0.086425</td>\n",
       "    </tr>\n",
       "    <tr>\n",
       "      <th>wind_speed</th>\n",
       "      <td>-0.057246</td>\n",
       "      <td>0.127540</td>\n",
       "      <td>-0.019608</td>\n",
       "      <td>-0.004804</td>\n",
       "      <td>0.025951</td>\n",
       "      <td>0.044447</td>\n",
       "      <td>-0.035742</td>\n",
       "      <td>-0.064100</td>\n",
       "      <td>-0.282958</td>\n",
       "      <td>1.000000</td>\n",
       "      <td>0.010544</td>\n",
       "      <td>0.080219</td>\n",
       "      <td>0.025531</td>\n",
       "    </tr>\n",
       "    <tr>\n",
       "      <th>casual</th>\n",
       "      <td>0.007197</td>\n",
       "      <td>0.028011</td>\n",
       "      <td>0.002130</td>\n",
       "      <td>-0.015372</td>\n",
       "      <td>-0.000206</td>\n",
       "      <td>-0.015864</td>\n",
       "      <td>0.040763</td>\n",
       "      <td>0.040860</td>\n",
       "      <td>-0.036357</td>\n",
       "      <td>0.010544</td>\n",
       "      <td>1.000000</td>\n",
       "      <td>0.065853</td>\n",
       "      <td>0.981693</td>\n",
       "    </tr>\n",
       "    <tr>\n",
       "      <th>subscribed</th>\n",
       "      <td>0.278399</td>\n",
       "      <td>0.371302</td>\n",
       "      <td>-0.041417</td>\n",
       "      <td>0.134013</td>\n",
       "      <td>0.015390</td>\n",
       "      <td>-0.131915</td>\n",
       "      <td>0.332923</td>\n",
       "      <td>0.332542</td>\n",
       "      <td>-0.268173</td>\n",
       "      <td>0.080219</td>\n",
       "      <td>0.065853</td>\n",
       "      <td>1.000000</td>\n",
       "      <td>0.254705</td>\n",
       "    </tr>\n",
       "    <tr>\n",
       "      <th>usage</th>\n",
       "      <td>0.060117</td>\n",
       "      <td>0.098023</td>\n",
       "      <td>-0.005842</td>\n",
       "      <td>0.010684</td>\n",
       "      <td>0.002738</td>\n",
       "      <td>-0.040555</td>\n",
       "      <td>0.103055</td>\n",
       "      <td>0.103076</td>\n",
       "      <td>-0.086425</td>\n",
       "      <td>0.025531</td>\n",
       "      <td>0.981693</td>\n",
       "      <td>0.254705</td>\n",
       "      <td>1.000000</td>\n",
       "    </tr>\n",
       "  </tbody>\n",
       "</table>\n",
       "</div>"
      ],
      "text/plain": [
       "                  date      hour   holiday  workingday   weekday  \\\n",
       "date          1.000000 -0.008203  0.057832   -0.010183  0.001374   \n",
       "hour         -0.008203  1.000000  0.000468    0.002209 -0.003679   \n",
       "holiday       0.057832  0.000468  1.000000   -0.247877 -0.094536   \n",
       "workingday   -0.010183  0.002209 -0.247877    1.000000  0.036898   \n",
       "weekday       0.001374 -0.003679 -0.094536    0.036898  1.000000   \n",
       "weather_type -0.023054 -0.029682 -0.013434    0.057356  0.000816   \n",
       "temp          0.131941  0.131916 -0.008131    0.053103  0.000837   \n",
       "ftemp         0.134037  0.129875 -0.009728    0.054914 -0.004317   \n",
       "humidity     -0.001135 -0.271771  0.006655    0.025730 -0.043147   \n",
       "wind_speed   -0.057246  0.127540 -0.019608   -0.004804  0.025951   \n",
       "casual        0.007197  0.028011  0.002130   -0.015372 -0.000206   \n",
       "subscribed    0.278399  0.371302 -0.041417    0.134013  0.015390   \n",
       "usage         0.060117  0.098023 -0.005842    0.010684  0.002738   \n",
       "\n",
       "              weather_type      temp     ftemp  humidity  wind_speed  \\\n",
       "date             -0.023054  0.131941  0.134037 -0.001135   -0.057246   \n",
       "hour             -0.029682  0.131916  0.129875 -0.271771    0.127540   \n",
       "holiday          -0.013434 -0.008131 -0.009728  0.006655   -0.019608   \n",
       "workingday        0.057356  0.053103  0.054914  0.025730   -0.004804   \n",
       "weekday           0.000816  0.000837 -0.004317 -0.043147    0.025951   \n",
       "weather_type      1.000000 -0.083150 -0.087013  0.417010    0.044447   \n",
       "temp             -0.083150  1.000000  0.993252 -0.032506   -0.035742   \n",
       "ftemp            -0.087013  0.993252  1.000000 -0.022837   -0.064100   \n",
       "humidity          0.417010 -0.032506 -0.022837  1.000000   -0.282958   \n",
       "wind_speed        0.044447 -0.035742 -0.064100 -0.282958    1.000000   \n",
       "casual           -0.015864  0.040763  0.040860 -0.036357    0.010544   \n",
       "subscribed       -0.131915  0.332923  0.332542 -0.268173    0.080219   \n",
       "usage            -0.040555  0.103055  0.103076 -0.086425    0.025531   \n",
       "\n",
       "                casual  subscribed     usage  \n",
       "date          0.007197    0.278399  0.060117  \n",
       "hour          0.028011    0.371302  0.098023  \n",
       "holiday       0.002130   -0.041417 -0.005842  \n",
       "workingday   -0.015372    0.134013  0.010684  \n",
       "weekday      -0.000206    0.015390  0.002738  \n",
       "weather_type -0.015864   -0.131915 -0.040555  \n",
       "temp          0.040763    0.332923  0.103055  \n",
       "ftemp         0.040860    0.332542  0.103076  \n",
       "humidity     -0.036357   -0.268173 -0.086425  \n",
       "wind_speed    0.010544    0.080219  0.025531  \n",
       "casual        1.000000    0.065853  0.981693  \n",
       "subscribed    0.065853    1.000000  0.254705  \n",
       "usage         0.981693    0.254705  1.000000  "
      ]
     },
     "execution_count": 12,
     "metadata": {},
     "output_type": "execute_result"
    }
   ],
   "source": [
    "data.corr()"
   ]
  },
  {
   "cell_type": "code",
   "execution_count": 13,
   "metadata": {
    "collapsed": false
   },
   "outputs": [],
   "source": [
    "# data.loc[(data[\"weekday\"] == 5) | (data[\"weekday\"] == 6), \"holiday\"] = 1"
   ]
  },
  {
   "cell_type": "code",
   "execution_count": 14,
   "metadata": {
    "collapsed": false
   },
   "outputs": [
    {
     "data": {
      "text/plain": [
       "<matplotlib.axes._subplots.AxesSubplot at 0x1f64dd45b38>"
      ]
     },
     "execution_count": 14,
     "metadata": {},
     "output_type": "execute_result"
    },
    {
     "data": {
      "image/png": "[encoded data removed]",
      "text/plain": [
       "<matplotlib.figure.Figure at 0x1f64dd45240>"
      ]
     },
     "metadata": {},
     "output_type": "display_data"
    }
   ],
   "source": [
    "data.pivot_table(values='casual', index='hour', aggfunc=np.mean).plot.bar()"
   ]
  },
  {
   "cell_type": "code",
   "execution_count": 15,
   "metadata": {
    "collapsed": false
   },
   "outputs": [
    {
     "data": {
      "text/plain": [
       "<matplotlib.axes._subplots.AxesSubplot at 0x1f64de78828>"
      ]
     },
     "execution_count": 15,
     "metadata": {},
     "output_type": "execute_result"
    },
    {
     "data": {
      "image/png": "[encoded data removed]",
      "text/plain": [
       "<matplotlib.figure.Figure at 0x1f64de825c0>"
      ]
     },
     "metadata": {},
     "output_type": "display_data"
    }
   ],
   "source": [
    "data.pivot_table(values='casual', index='weekday', aggfunc=np.mean).plot.bar()"
   ]
  },
  {
   "cell_type": "code",
   "execution_count": 16,
   "metadata": {
    "collapsed": true
   },
   "outputs": [],
   "source": [
    "data_subscribed = data.copy()\n",
    "data_casual = data.copy()"
   ]
  },
  {
   "cell_type": "code",
   "execution_count": 17,
   "metadata": {
    "collapsed": false
   },
   "outputs": [
    {
     "data": {
      "text/html": [
       "<div>\n",
       "<table border=\"1\" class=\"dataframe\">\n",
       "  <thead>\n",
       "    <tr style=\"text-align: right;\">\n",
       "      <th></th>\n",
       "      <th>date</th>\n",
       "      <th>hour</th>\n",
       "      <th>holiday</th>\n",
       "      <th>workingday</th>\n",
       "      <th>weekday</th>\n",
       "      <th>weather_type</th>\n",
       "      <th>temp</th>\n",
       "      <th>ftemp</th>\n",
       "      <th>humidity</th>\n",
       "      <th>wind_speed</th>\n",
       "      <th>casual</th>\n",
       "      <th>subscribed</th>\n",
       "      <th>usage</th>\n",
       "    </tr>\n",
       "  </thead>\n",
       "  <tbody>\n",
       "    <tr>\n",
       "      <th>0</th>\n",
       "      <td>0.0</td>\n",
       "      <td>0</td>\n",
       "      <td>0</td>\n",
       "      <td>1</td>\n",
       "      <td>1</td>\n",
       "      <td>1</td>\n",
       "      <td>0.22</td>\n",
       "      <td>0.197000</td>\n",
       "      <td>0.44</td>\n",
       "      <td>0.3582</td>\n",
       "      <td>0</td>\n",
       "      <td>15</td>\n",
       "      <td>15</td>\n",
       "    </tr>\n",
       "    <tr>\n",
       "      <th>1</th>\n",
       "      <td>0.0</td>\n",
       "      <td>1</td>\n",
       "      <td>0</td>\n",
       "      <td>1</td>\n",
       "      <td>1</td>\n",
       "      <td>1</td>\n",
       "      <td>0.20</td>\n",
       "      <td>0.166700</td>\n",
       "      <td>0.44</td>\n",
       "      <td>0.4179</td>\n",
       "      <td>0</td>\n",
       "      <td>6</td>\n",
       "      <td>6</td>\n",
       "    </tr>\n",
       "    <tr>\n",
       "      <th>2</th>\n",
       "      <td>0.0</td>\n",
       "      <td>4</td>\n",
       "      <td>0</td>\n",
       "      <td>1</td>\n",
       "      <td>1</td>\n",
       "      <td>1</td>\n",
       "      <td>0.16</td>\n",
       "      <td>0.136400</td>\n",
       "      <td>0.47</td>\n",
       "      <td>0.3881</td>\n",
       "      <td>0</td>\n",
       "      <td>3</td>\n",
       "      <td>3</td>\n",
       "    </tr>\n",
       "    <tr>\n",
       "      <th>3</th>\n",
       "      <td>0.0</td>\n",
       "      <td>5</td>\n",
       "      <td>0</td>\n",
       "      <td>1</td>\n",
       "      <td>1</td>\n",
       "      <td>1</td>\n",
       "      <td>0.16</td>\n",
       "      <td>0.136400</td>\n",
       "      <td>0.47</td>\n",
       "      <td>0.2836</td>\n",
       "      <td>0</td>\n",
       "      <td>9</td>\n",
       "      <td>9</td>\n",
       "    </tr>\n",
       "    <tr>\n",
       "      <th>4</th>\n",
       "      <td>0.0</td>\n",
       "      <td>6</td>\n",
       "      <td>0</td>\n",
       "      <td>1</td>\n",
       "      <td>1</td>\n",
       "      <td>1</td>\n",
       "      <td>0.14</td>\n",
       "      <td>0.119043</td>\n",
       "      <td>0.50</td>\n",
       "      <td>0.3881</td>\n",
       "      <td>0</td>\n",
       "      <td>90</td>\n",
       "      <td>90</td>\n",
       "    </tr>\n",
       "  </tbody>\n",
       "</table>\n",
       "</div>"
      ],
      "text/plain": [
       "   date  hour  holiday  workingday  weekday  weather_type  temp     ftemp  \\\n",
       "0   0.0     0        0           1        1             1  0.22  0.197000   \n",
       "1   0.0     1        0           1        1             1  0.20  0.166700   \n",
       "2   0.0     4        0           1        1             1  0.16  0.136400   \n",
       "3   0.0     5        0           1        1             1  0.16  0.136400   \n",
       "4   0.0     6        0           1        1             1  0.14  0.119043   \n",
       "\n",
       "   humidity  wind_speed  casual  subscribed  usage  \n",
       "0      0.44      0.3582       0          15     15  \n",
       "1      0.44      0.4179       0           6      6  \n",
       "2      0.47      0.3881       0           3      3  \n",
       "3      0.47      0.2836       0           9      9  \n",
       "4      0.50      0.3881       0          90     90  "
      ]
     },
     "execution_count": 17,
     "metadata": {},
     "output_type": "execute_result"
    }
   ],
   "source": [
    "data_subscribed.head()"
   ]
  },
  {
   "cell_type": "code",
   "execution_count": 18,
   "metadata": {
    "collapsed": false
   },
   "outputs": [
    {
     "data": {
      "text/plain": [
       "3"
      ]
     },
     "execution_count": 18,
     "metadata": {},
     "output_type": "execute_result"
    },
    {
     "data": {
      "image/png": "[encoded data removed]",
      "text/plain": [
       "<matplotlib.figure.Figure at 0x1f64de16be0>"
      ]
     },
     "metadata": {},
     "output_type": "display_data"
    }
   ],
   "source": [
    "data_subscribed.pivot_table(values='subscribed', index='weather_type', aggfunc=np.mean).plot.bar()\n",
    "len(data[data.weather_type == 4])"
   ]
  },
  {
   "cell_type": "code",
   "execution_count": 19,
   "metadata": {
    "collapsed": false
   },
   "outputs": [
    {
     "data": {
      "text/plain": [
       "0.0"
      ]
     },
     "execution_count": 19,
     "metadata": {},
     "output_type": "execute_result"
    }
   ],
   "source": [
    "size_all= len(data)\n",
    "size_tm = len(data[(data.temp < 0.1) & (data.temp > 0.9)])\n",
    "size_tm / size_all\n",
    "# data = data[(data.temp > 0.1) & (data.temp < 0.9)]"
   ]
  },
  {
   "cell_type": "code",
   "execution_count": 20,
   "metadata": {
    "collapsed": false
   },
   "outputs": [
    {
     "data": {
      "text/plain": [
       "28"
      ]
     },
     "execution_count": 20,
     "metadata": {},
     "output_type": "execute_result"
    }
   ],
   "source": [
    "len(data_casual[data_casual.casual > 1200])"
   ]
  },
  {
   "cell_type": "code",
   "execution_count": 21,
   "metadata": {
    "collapsed": false
   },
   "outputs": [],
   "source": [
    "data_casual = data_casual[data_casual.casual < 10000]\n",
    "# data_casual = data_casual[data_casual.wind_speed < 0.85]"
   ]
  },
  {
   "cell_type": "markdown",
   "metadata": {},
   "source": [
    "#### Delete outliers with value casual > 1200"
   ]
  },
  {
   "cell_type": "code",
   "execution_count": 22,
   "metadata": {
    "collapsed": true
   },
   "outputs": [],
   "source": [
    "data_casual = data_casual[data_casual.casual < 1200]"
   ]
  },
  {
   "cell_type": "code",
   "execution_count": 23,
   "metadata": {
    "collapsed": false
   },
   "outputs": [
    {
     "data": {
      "text/plain": [
       "<matplotlib.axes._subplots.AxesSubplot at 0x1f64df736a0>"
      ]
     },
     "execution_count": 23,
     "metadata": {},
     "output_type": "execute_result"
    },
    {
     "data": {
      "image/png": "[encoded data removed]",
      "text/plain": [
       "<matplotlib.figure.Figure at 0x1f64df7b898>"
      ]
     },
     "metadata": {},
     "output_type": "display_data"
    }
   ],
   "source": [
    "data_casual.pivot_table(values='casual', index='hour', columns='weekday', aggfunc=np.mean).plot.bar()"
   ]
  },
  {
   "cell_type": "code",
   "execution_count": 24,
   "metadata": {
    "collapsed": false
   },
   "outputs": [
    {
     "data": {
      "text/plain": [
       "<matplotlib.axes._subplots.AxesSubplot at 0x1f64f034b70>"
      ]
     },
     "execution_count": 24,
     "metadata": {},
     "output_type": "execute_result"
    },
    {
     "data": {
      "image/png": "[encoded data removed]",
      "text/plain": [
       "<matplotlib.figure.Figure at 0x1f64eff8b70>"
      ]
     },
     "metadata": {},
     "output_type": "display_data"
    }
   ],
   "source": [
    "data_casual.pivot_table(values='casual', index='temp', aggfunc=np.mean).plot()"
   ]
  },
  {
   "cell_type": "markdown",
   "metadata": {},
   "source": [
    "# Regression for subscribed"
   ]
  },
  {
   "cell_type": "code",
   "execution_count": 118,
   "metadata": {
    "collapsed": true
   },
   "outputs": [],
   "source": [
    "# data_test_set = data_subscribed\n",
    "\n",
    "# data_test_set = data_test_set.drop(['casual', 'subscribed', 'usage'], 1)\n",
    "# X_train, X_test, y_train, y_test = train_test_split(data_test_set, data_subscribed.subscribed)\n",
    "\n",
    "# y_train_subsribed = y_train\n",
    "# y_test_subscribed = y_test\n",
    "\n",
    "# parameters = [{'weights': ['uniform', 'distance'], 'n_neighbors': [1, 2, 3, 4, 5, 6, 7, 8, 9, 10], 'p': [1, 2, 3]}]\n",
    "# clf_grid = grid_search.GridSearchCV(KNeighborsRegressor(), parameters, n_jobs=-1)\n",
    "# clf_grid.fit(X_train, y_train_subsribed)\n",
    "# predictions = clf_grid.predict(X_test)\n",
    "\n",
    "# print(\"Opitimal neigbour: \", clf_grid.best_estimator_.n_neighbors)\n",
    "# print(\"Opitimal p: \", clf_grid.best_estimator_.p)\n",
    "# print(\"Opitimal weights: \", clf_grid.best_estimator_.weights)\n",
    "# print(\"Best score: \", clf_grid.best_score_)"
   ]
  },
  {
   "cell_type": "code",
   "execution_count": 118,
   "metadata": {
    "collapsed": false
   },
   "outputs": [
    {
     "data": {
      "text/plain": [
       "RandomForestRegressor(bootstrap=True, criterion='mse', max_depth=None,\n",
       "           max_features='auto', max_leaf_nodes=None,\n",
       "           min_impurity_split=1e-07, min_samples_leaf=1,\n",
       "           min_samples_split=2, min_weight_fraction_leaf=0.0,\n",
       "           n_estimators=50, n_jobs=1, oob_score=False, random_state=None,\n",
       "           verbose=0, warm_start=False)"
      ]
     },
     "execution_count": 118,
     "metadata": {},
     "output_type": "execute_result"
    }
   ],
   "source": [
    "data_test_set = data_subscribed\n",
    "\n",
    "data_test_set = data_test_set.drop(['casual', 'subscribed', 'usage'], 1)\n",
    "X_train, X_test, y_train, y_test = train_test_split(data_test_set, data_subscribed.subscribed)\n",
    "\n",
    "y_train_subsribed = y_train\n",
    "y_test_subscribed = y_test\n",
    "\n",
    "subscribed_regression1 = ensemble.RandomForestRegressor(n_estimators=50)\n",
    "subscribed_regression1.fit(X_train, y_train_subsribed)"
   ]
  },
  {
   "cell_type": "code",
   "execution_count": 119,
   "metadata": {
    "collapsed": false
   },
   "outputs": [
    {
     "name": "stdout",
     "output_type": "stream",
     "text": [
      "Error for subscribed:  61.9369122592\n",
      "R2:  0.94576103825\n",
      "Negative el:  0\n"
     ]
    }
   ],
   "source": [
    "y_predicted1 = subscribed_regression1.predict(X_test)\n",
    "print(\"Error for subscribed: \", mean_absolute_error(y_test_subscribed, y_predicted1))\n",
    "print(\"R2: \", r2_score(y_test_subscribed, y_predicted1))\n",
    "print(\"Negative el: \", len(y_predicted1[y_predicted1 < 0]))"
   ]
  },
  {
   "cell_type": "code",
   "execution_count": null,
   "metadata": {
    "collapsed": false
   },
   "outputs": [],
   "source": [
    "scores = cross_val_score(ensemble.ExtraTreesRegressor(n_estimators=50),\\\n",
    "                         data_casual.drop(['ftemp','casual', 'subscribed', 'usage'], 1),\\\n",
    "                         data_casual.subscribed, scoring='r2',n_jobs=-1,cv=KFold(n_splits=10, shuffle=True))\n",
    "print(scores)"
   ]
  },
  {
   "cell_type": "code",
   "execution_count": null,
   "metadata": {
    "collapsed": true
   },
   "outputs": [],
   "source": []
  },
  {
   "cell_type": "markdown",
   "metadata": {},
   "source": [
    "### Importance feature for subscribers:"
   ]
  },
  {
   "cell_type": "code",
   "execution_count": 98,
   "metadata": {
    "collapsed": false
   },
   "outputs": [
    {
     "name": "stdout",
     "output_type": "stream",
     "text": [
      "Feature importances:\n",
      " 1. feature 'hour ' (0.6079)\n",
      " 2. feature 'date ' (0.1246)\n",
      " 3. feature 'workingday' (0.0842)\n",
      " 4. feature 'temp ' (0.0575)\n",
      " 5. feature 'ftemp' (0.0444)\n",
      " 6. feature 'humidity' (0.0297)\n",
      " 7. feature 'weather_type' (0.0238)\n",
      " 8. feature 'weekday' (0.0145)\n",
      " 9. feature 'wind_speed' (0.0106)\n",
      "10. feature 'holiday' (0.0027)\n"
     ]
    }
   ],
   "source": [
    "importances = subscribed_regression1.feature_importances_\n",
    "indices = np.argsort(importances)[::-1]\n",
    "\n",
    "print(\"Feature importances:\")\n",
    "for f, idx in enumerate(indices):\n",
    "    print(\"{:2d}. feature '{:5s}' ({:.4f})\".format(f + 1, data.columns[idx], importances[idx]))"
   ]
  },
  {
   "cell_type": "code",
   "execution_count": 99,
   "metadata": {
    "collapsed": false
   },
   "outputs": [
    {
     "data": {
      "image/png": "[encoded data removed]",
      "text/plain": [
       "<matplotlib.figure.Figure at 0x1f658c286d8>"
      ]
     },
     "metadata": {},
     "output_type": "display_data"
    }
   ],
   "source": [
    "d_first = 9\n",
    "plt.figure(figsize=(8, 8))\n",
    "plt.title(\"Feature importances\")\n",
    "plt.bar(range(d_first), importances[indices[:d_first]], align='center')\n",
    "plt.xticks(range(d_first), np.array(data.columns)[indices[:d_first]], rotation=90)\n",
    "plt.xlim([-1, d_first]);"
   ]
  },
  {
   "cell_type": "markdown",
   "metadata": {},
   "source": [
    "# Regression for casual"
   ]
  },
  {
   "cell_type": "code",
   "execution_count": 129,
   "metadata": {
    "collapsed": false
   },
   "outputs": [
    {
     "name": "stdout",
     "output_type": "stream",
     "text": [
      "Error for casual:  32.4879019908\n",
      "R2:  0.91747856953\n",
      "Negative el:  0\n"
     ]
    }
   ],
   "source": [
    "data_test_set = data_casual\n",
    "\n",
    "data_test_set = data_test_set.drop(['casual', 'subscribed', 'usage', 'weather_type'], 1)\n",
    "X_train, X_test, y_train, y_test = train_test_split(data_test_set, data_casual.casual, test_size=0.1)\n",
    "\n",
    "y_train_casual = y_train\n",
    "y_test_casual = y_test\n",
    "\n",
    "casual_regression2 = ensemble.RandomForestRegressor(n_estimators=60)\n",
    "casual_regression2.fit(X_train, y_train_casual)\n",
    "\n",
    "y_predicted2 = casual_regression2.predict(X_test)\n",
    "    \n",
    "print(\"Error for casual: \", mean_absolute_error(y_test_casual, y_predicted2))\n",
    "print(\"R2: \", r2_score(y_test_casual, y_predicted2))\n",
    "print(\"Negative el: \", len(y_predicted2[y_predicted2 < 0]))"
   ]
  },
  {
   "cell_type": "code",
   "execution_count": 139,
   "metadata": {
    "collapsed": false
   },
   "outputs": [
    {
     "name": "stdout",
     "output_type": "stream",
     "text": [
      "[ 0.91082384  0.90605854  0.91591011  0.92081922  0.9002662   0.93027336\n",
      "  0.91826669  0.92032848  0.90896467  0.91606845]\n"
     ]
    }
   ],
   "source": [
    "scores = cross_val_score(ensemble.RandomForestRegressor(n_estimators=70),\\\n",
    "                         data_casual.drop(['casual', 'subscribed', 'usage'], 1),\\\n",
    "                         data_casual.casual, scoring='r2',n_jobs=-1,cv=KFold(n_splits=10, shuffle=True))\n",
    "print(scores)"
   ]
  },
  {
   "cell_type": "markdown",
   "metadata": {},
   "source": [
    "### Importance feature for casual:"
   ]
  },
  {
   "cell_type": "code",
   "execution_count": 121,
   "metadata": {
    "collapsed": false
   },
   "outputs": [
    {
     "name": "stdout",
     "output_type": "stream",
     "text": [
      "Feature importances:\n",
      " 1. feature 'hour ' (0.3874)\n",
      " 2. feature 'workingday' (0.1892)\n",
      " 3. feature 'ftemp' (0.1622)\n",
      " 4. feature 'date ' (0.0875)\n",
      " 5. feature 'temp ' (0.0708)\n",
      " 6. feature 'humidity' (0.0581)\n",
      " 7. feature 'wind_speed' (0.0178)\n",
      " 8. feature 'weekday' (0.0158)\n",
      " 9. feature 'weather_type' (0.0081)\n",
      "10. feature 'holiday' (0.0032)\n"
     ]
    }
   ],
   "source": [
    "importances = casual_regression2.feature_importances_\n",
    "indices = np.argsort(importances)[::-1]\n",
    "\n",
    "print(\"Feature importances:\")\n",
    "for f, idx in enumerate(indices):\n",
    "    print(\"{:2d}. feature '{:5s}' ({:.4f})\".format(f + 1, data.columns[idx], importances[idx]))"
   ]
  },
  {
   "cell_type": "code",
   "execution_count": 122,
   "metadata": {
    "collapsed": false
   },
   "outputs": [
    {
     "data": {
      "image/png": "[encoded data removed]",
      "text/plain": [
       "<matplotlib.figure.Figure at 0x1f68c5984a8>"
      ]
     },
     "metadata": {},
     "output_type": "display_data"
    }
   ],
   "source": [
    "d_first = 9\n",
    "plt.figure(figsize=(8, 8))\n",
    "plt.title(\"Feature importances\")\n",
    "plt.bar(range(d_first), importances[indices[:d_first]], align='center')\n",
    "plt.xticks(range(d_first), np.array(data.columns)[indices[:d_first]], rotation=90)\n",
    "plt.xlim([-1, d_first]);"
   ]
  },
  {
   "cell_type": "markdown",
   "metadata": {},
   "source": [
    "# Metrics"
   ]
  },
  {
   "cell_type": "code",
   "execution_count": 124,
   "metadata": {
    "collapsed": false
   },
   "outputs": [],
   "source": [
    "y_final = y_predicted1 + y_predicted2\n",
    "a = np.array(y_test_casual) + np.array(y_test_subscribed)\n",
    "np.mean(abs(a - y_final))"
   ]
  },
  {
   "cell_type": "markdown",
   "metadata": {},
   "source": [
    "# Testing"
   ]
  },
  {
   "cell_type": "code",
   "execution_count": 125,
   "metadata": {
    "collapsed": false
   },
   "outputs": [
    {
     "name": "stderr",
     "output_type": "stream",
     "text": [
      "C:\\Anaconda3\\lib\\site-packages\\sklearn\\utils\\validation.py:420: DataConversionWarning: Data with input dtype int64 was converted to float64 by MinMaxScaler.\n",
      "  warnings.warn(msg, DataConversionWarning)\n"
     ]
    },
    {
     "ename": "ValueError",
     "evalue": "Number of features of the model must  match the input. Model n_features is 9 and  input n_features is 10 ",
     "output_type": "error",
     "traceback": [
      "\u001b[0;31m---------------------------------------------------------------------------\u001b[0m",
      "\u001b[0;31mValueError\u001b[0m                                Traceback (most recent call last)",
      "\u001b[0;32m<ipython-input-125-7e5a17e68fc1>\u001b[0m in \u001b[0;36m<module>\u001b[0;34m()\u001b[0m\n\u001b[1;32m      8\u001b[0m \u001b[0mdata_x\u001b[0m \u001b[1;33m=\u001b[0m \u001b[0mtest_data\u001b[0m\u001b[1;33m.\u001b[0m\u001b[0mdrop\u001b[0m\u001b[1;33m(\u001b[0m\u001b[1;33m[\u001b[0m\u001b[1;34m'Id'\u001b[0m\u001b[1;33m]\u001b[0m\u001b[1;33m,\u001b[0m \u001b[1;36m1\u001b[0m\u001b[1;33m)\u001b[0m\u001b[1;33m\u001b[0m\u001b[0m\n\u001b[1;32m      9\u001b[0m \u001b[1;33m\u001b[0m\u001b[0m\n\u001b[0;32m---> 10\u001b[0;31m \u001b[0manswers_subscribed\u001b[0m \u001b[1;33m=\u001b[0m \u001b[0msubscribed_regression1\u001b[0m\u001b[1;33m.\u001b[0m\u001b[0mpredict\u001b[0m\u001b[1;33m(\u001b[0m\u001b[0mdata_x\u001b[0m\u001b[1;33m)\u001b[0m\u001b[1;33m\u001b[0m\u001b[0m\n\u001b[0m\u001b[1;32m     11\u001b[0m \u001b[0manswers_casual\u001b[0m \u001b[1;33m=\u001b[0m \u001b[0mcasual_regression2\u001b[0m\u001b[1;33m.\u001b[0m\u001b[0mpredict\u001b[0m\u001b[1;33m(\u001b[0m\u001b[0mdata_x\u001b[0m\u001b[1;33m)\u001b[0m\u001b[1;33m\u001b[0m\u001b[0m\n\u001b[1;32m     12\u001b[0m \u001b[0manswers\u001b[0m \u001b[1;33m=\u001b[0m \u001b[0manswers_subscribed\u001b[0m \u001b[1;33m+\u001b[0m \u001b[0manswers_casual\u001b[0m\u001b[1;33m\u001b[0m\u001b[0m\n",
      "\u001b[0;32mC:\\Anaconda3\\lib\\site-packages\\sklearn\\ensemble\\forest.py\u001b[0m in \u001b[0;36mpredict\u001b[0;34m(self, X)\u001b[0m\n\u001b[1;32m    647\u001b[0m         \"\"\"\n\u001b[1;32m    648\u001b[0m         \u001b[1;31m# Check data\u001b[0m\u001b[1;33m\u001b[0m\u001b[1;33m\u001b[0m\u001b[0m\n\u001b[0;32m--> 649\u001b[0;31m         \u001b[0mX\u001b[0m \u001b[1;33m=\u001b[0m \u001b[0mself\u001b[0m\u001b[1;33m.\u001b[0m\u001b[0m_validate_X_predict\u001b[0m\u001b[1;33m(\u001b[0m\u001b[0mX\u001b[0m\u001b[1;33m)\u001b[0m\u001b[1;33m\u001b[0m\u001b[0m\n\u001b[0m\u001b[1;32m    650\u001b[0m \u001b[1;33m\u001b[0m\u001b[0m\n\u001b[1;32m    651\u001b[0m         \u001b[1;31m# Assign chunk of trees to jobs\u001b[0m\u001b[1;33m\u001b[0m\u001b[1;33m\u001b[0m\u001b[0m\n",
      "\u001b[0;32mC:\\Anaconda3\\lib\\site-packages\\sklearn\\ensemble\\forest.py\u001b[0m in \u001b[0;36m_validate_X_predict\u001b[0;34m(self, X)\u001b[0m\n\u001b[1;32m    317\u001b[0m                                  \"call `fit` before exploiting the model.\")\n\u001b[1;32m    318\u001b[0m \u001b[1;33m\u001b[0m\u001b[0m\n\u001b[0;32m--> 319\u001b[0;31m         \u001b[1;32mreturn\u001b[0m \u001b[0mself\u001b[0m\u001b[1;33m.\u001b[0m\u001b[0mestimators_\u001b[0m\u001b[1;33m[\u001b[0m\u001b[1;36m0\u001b[0m\u001b[1;33m]\u001b[0m\u001b[1;33m.\u001b[0m\u001b[0m_validate_X_predict\u001b[0m\u001b[1;33m(\u001b[0m\u001b[0mX\u001b[0m\u001b[1;33m,\u001b[0m \u001b[0mcheck_input\u001b[0m\u001b[1;33m=\u001b[0m\u001b[1;32mTrue\u001b[0m\u001b[1;33m)\u001b[0m\u001b[1;33m\u001b[0m\u001b[0m\n\u001b[0m\u001b[1;32m    320\u001b[0m \u001b[1;33m\u001b[0m\u001b[0m\n\u001b[1;32m    321\u001b[0m     \u001b[1;33m@\u001b[0m\u001b[0mproperty\u001b[0m\u001b[1;33m\u001b[0m\u001b[0m\n",
      "\u001b[0;32mC:\\Anaconda3\\lib\\site-packages\\sklearn\\tree\\tree.py\u001b[0m in \u001b[0;36m_validate_X_predict\u001b[0;34m(self, X, check_input)\u001b[0m\n\u001b[1;32m    374\u001b[0m                              \u001b[1;34m\" match the input. Model n_features is %s and \"\u001b[0m\u001b[1;33m\u001b[0m\u001b[0m\n\u001b[1;32m    375\u001b[0m                              \u001b[1;34m\" input n_features is %s \"\u001b[0m\u001b[1;33m\u001b[0m\u001b[0m\n\u001b[0;32m--> 376\u001b[0;31m                              % (self.n_features_, n_features))\n\u001b[0m\u001b[1;32m    377\u001b[0m \u001b[1;33m\u001b[0m\u001b[0m\n\u001b[1;32m    378\u001b[0m         \u001b[1;32mreturn\u001b[0m \u001b[0mX\u001b[0m\u001b[1;33m\u001b[0m\u001b[0m\n",
      "\u001b[0;31mValueError\u001b[0m: Number of features of the model must  match the input. Model n_features is 9 and  input n_features is 10 "
     ]
    }
   ],
   "source": [
    "test_data = pd.read_csv('test.csv', parse_dates=[\"date\"])\n",
    "\n",
    "test_data_scaler = MinMaxScaler()\n",
    "test_data.date = test_data_scaler.fit_transform(test_data.date.astype(np.int64)[:,np.newaxis])\n",
    "test_data.loc[test_data.ftemp == '-', 'ftemp'] = test_data.temp - medium_diff\n",
    "\n",
    "data_index = test_data.Id.values\n",
    "data_x = test_data.drop(['Id'], 1)\n",
    "\n",
    "answers_subscribed = subscribed_regression1.predict(data_x)\n",
    "answers_casual = casual_regression2.predict(data_x)\n",
    "answers = answers_subscribed + answers_casual"
   ]
  },
  {
   "cell_type": "code",
   "execution_count": null,
   "metadata": {
    "collapsed": true
   },
   "outputs": [],
   "source": [
    "answers = answers.astype(int)"
   ]
  },
  {
   "cell_type": "markdown",
   "metadata": {},
   "source": [
    "# Save to CSV"
   ]
  },
  {
   "cell_type": "code",
   "execution_count": null,
   "metadata": {
    "collapsed": false
   },
   "outputs": [],
   "source": [
    "import csv\n",
    "with open('submission.csv', 'w') as csvfile:\n",
    "        writer = csv.writer(csvfile)\n",
    "        writer.writerow((\"Id\", \"Expected\"))\n",
    "        for i in range(0, len(data_x)):\n",
    "            writer.writerow((data_index[i], answers[i]))"
   ]
  }
 ],
 "metadata": {
  "anaconda-cloud": {},
  "kernelspec": {
   "display_name": "Python [Root]",
   "language": "python",
   "name": "Python [Root]"
  },
  "language_info": {
   "codemirror_mode": {
    "name": "ipython",
    "version": 3
   },
   "file_extension": ".py",
   "mimetype": "text/x-python",
   "name": "python",
   "nbconvert_exporter": "python",
   "pygments_lexer": "ipython3",
   "version": "3.5.2"
  }
 },
 "nbformat": 4,
 "nbformat_minor": 0
}
