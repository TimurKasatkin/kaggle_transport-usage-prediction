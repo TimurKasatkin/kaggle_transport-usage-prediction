{
 "cells": [
  {
   "cell_type": "code",
   "execution_count": 1,
   "metadata": {
    "collapsed": false
   },
   "outputs": [
    {
     "name": "stdout",
     "output_type": "stream",
     "text": [
      "Populating the interactive namespace from numpy and matplotlib\n"
     ]
    }
   ],
   "source": [
    "%pylab inline  "
   ]
  },
  {
   "cell_type": "code",
   "execution_count": 2,
   "metadata": {
    "collapsed": true
   },
   "outputs": [],
   "source": [
    "import pandas as pd\n",
    "import sklearn as skl\n",
    "from pprint import pprint\n",
    "import scipy\n",
    "import sys\n",
    "import pandas as pd\n",
    "from matplotlib import pyplot as plt\n",
    "import pylab as pl"
   ]
  },
  {
   "cell_type": "code",
   "execution_count": 3,
   "metadata": {
    "collapsed": false
   },
   "outputs": [],
   "source": [
    "data = pd.read_csv('train.csv')"
   ]
  },
  {
   "cell_type": "code",
   "execution_count": 4,
   "metadata": {
    "collapsed": false
   },
   "outputs": [
    {
     "name": "stdout",
     "output_type": "stream",
     "text": [
      "Amount absent values 'ftemp': 25.138 %\n"
     ]
    },
    {
     "data": {
      "text/html": [
       "<div>\n",
       "<table border=\"1\" class=\"dataframe\">\n",
       "  <thead>\n",
       "    <tr style=\"text-align: right;\">\n",
       "      <th></th>\n",
       "      <th>date</th>\n",
       "      <th>hour</th>\n",
       "      <th>holiday</th>\n",
       "      <th>workingday</th>\n",
       "      <th>weekday</th>\n",
       "      <th>weather_type</th>\n",
       "      <th>temp</th>\n",
       "      <th>ftemp</th>\n",
       "      <th>humidity</th>\n",
       "      <th>wind_speed</th>\n",
       "      <th>casual</th>\n",
       "      <th>subscribed</th>\n",
       "      <th>usage</th>\n",
       "    </tr>\n",
       "  </thead>\n",
       "  <tbody>\n",
       "    <tr>\n",
       "      <th>0</th>\n",
       "      <td>2011-01-03</td>\n",
       "      <td>0</td>\n",
       "      <td>0</td>\n",
       "      <td>1</td>\n",
       "      <td>1</td>\n",
       "      <td>1</td>\n",
       "      <td>0.22</td>\n",
       "      <td>0.19699999999999998</td>\n",
       "      <td>0.44</td>\n",
       "      <td>0.3582</td>\n",
       "      <td>0</td>\n",
       "      <td>15</td>\n",
       "      <td>15</td>\n",
       "    </tr>\n",
       "    <tr>\n",
       "      <th>1</th>\n",
       "      <td>2011-01-03</td>\n",
       "      <td>1</td>\n",
       "      <td>0</td>\n",
       "      <td>1</td>\n",
       "      <td>1</td>\n",
       "      <td>1</td>\n",
       "      <td>0.20</td>\n",
       "      <td>0.1667</td>\n",
       "      <td>0.44</td>\n",
       "      <td>0.4179</td>\n",
       "      <td>0</td>\n",
       "      <td>6</td>\n",
       "      <td>6</td>\n",
       "    </tr>\n",
       "    <tr>\n",
       "      <th>2</th>\n",
       "      <td>2011-01-03</td>\n",
       "      <td>4</td>\n",
       "      <td>0</td>\n",
       "      <td>1</td>\n",
       "      <td>1</td>\n",
       "      <td>1</td>\n",
       "      <td>0.16</td>\n",
       "      <td>0.1364</td>\n",
       "      <td>0.47</td>\n",
       "      <td>0.3881</td>\n",
       "      <td>0</td>\n",
       "      <td>3</td>\n",
       "      <td>3</td>\n",
       "    </tr>\n",
       "    <tr>\n",
       "      <th>3</th>\n",
       "      <td>2011-01-03</td>\n",
       "      <td>5</td>\n",
       "      <td>0</td>\n",
       "      <td>1</td>\n",
       "      <td>1</td>\n",
       "      <td>1</td>\n",
       "      <td>0.16</td>\n",
       "      <td>0.1364</td>\n",
       "      <td>0.47</td>\n",
       "      <td>0.2836</td>\n",
       "      <td>0</td>\n",
       "      <td>9</td>\n",
       "      <td>9</td>\n",
       "    </tr>\n",
       "    <tr>\n",
       "      <th>4</th>\n",
       "      <td>2011-01-03</td>\n",
       "      <td>6</td>\n",
       "      <td>0</td>\n",
       "      <td>1</td>\n",
       "      <td>1</td>\n",
       "      <td>1</td>\n",
       "      <td>0.14</td>\n",
       "      <td>-</td>\n",
       "      <td>0.50</td>\n",
       "      <td>0.3881</td>\n",
       "      <td>0</td>\n",
       "      <td>90</td>\n",
       "      <td>90</td>\n",
       "    </tr>\n",
       "  </tbody>\n",
       "</table>\n",
       "</div>"
      ],
      "text/plain": [
       "         date  hour  holiday  workingday  weekday  weather_type  temp  \\\n",
       "0  2011-01-03     0        0           1        1             1  0.22   \n",
       "1  2011-01-03     1        0           1        1             1  0.20   \n",
       "2  2011-01-03     4        0           1        1             1  0.16   \n",
       "3  2011-01-03     5        0           1        1             1  0.16   \n",
       "4  2011-01-03     6        0           1        1             1  0.14   \n",
       "\n",
       "                 ftemp  humidity  wind_speed  casual  subscribed  usage  \n",
       "0  0.19699999999999998      0.44      0.3582       0          15     15  \n",
       "1               0.1667      0.44      0.4179       0           6      6  \n",
       "2               0.1364      0.47      0.3881       0           3      3  \n",
       "3               0.1364      0.47      0.2836       0           9      9  \n",
       "4                    -      0.50      0.3881       0          90     90  "
      ]
     },
     "execution_count": 4,
     "metadata": {},
     "output_type": "execute_result"
    }
   ],
   "source": [
    "print(\"Amount absent values 'ftemp': %.3f\" % (len(data[data.ftemp == '-']) / len(data) * 100), '%')\n",
    "data.head()"
   ]
  },
  {
   "cell_type": "code",
   "execution_count": 5,
   "metadata": {
    "collapsed": false
   },
   "outputs": [
    {
     "data": {
      "text/plain": [
       "0.02095721286370588"
      ]
     },
     "execution_count": 5,
     "metadata": {},
     "output_type": "execute_result"
    }
   ],
   "source": [
    "known_ftemp = data[data.ftemp != '-']\n",
    "medium_diff = np.mean(known_ftemp.temp - known_ftemp.ftemp.astype(float))\n",
    "medium_diff"
   ]
  },
  {
   "cell_type": "code",
   "execution_count": 6,
   "metadata": {
    "collapsed": false
   },
   "outputs": [],
   "source": [
    "data.loc[data.ftemp == '-', 'ftemp'] = data.temp - medium_diff"
   ]
  },
  {
   "cell_type": "code",
   "execution_count": 7,
   "metadata": {
    "collapsed": false
   },
   "outputs": [
    {
     "data": {
      "text/html": [
       "<div>\n",
       "<table border=\"1\" class=\"dataframe\">\n",
       "  <thead>\n",
       "    <tr style=\"text-align: right;\">\n",
       "      <th></th>\n",
       "      <th>hour</th>\n",
       "      <th>holiday</th>\n",
       "      <th>workingday</th>\n",
       "      <th>weekday</th>\n",
       "      <th>weather_type</th>\n",
       "      <th>temp</th>\n",
       "      <th>humidity</th>\n",
       "      <th>wind_speed</th>\n",
       "      <th>casual</th>\n",
       "      <th>subscribed</th>\n",
       "      <th>usage</th>\n",
       "    </tr>\n",
       "  </thead>\n",
       "  <tbody>\n",
       "    <tr>\n",
       "      <th>hour</th>\n",
       "      <td>1.000000</td>\n",
       "      <td>0.000468</td>\n",
       "      <td>0.002209</td>\n",
       "      <td>-0.003679</td>\n",
       "      <td>-0.029682</td>\n",
       "      <td>0.131916</td>\n",
       "      <td>-0.271771</td>\n",
       "      <td>0.127540</td>\n",
       "      <td>0.028011</td>\n",
       "      <td>0.371302</td>\n",
       "      <td>0.098023</td>\n",
       "    </tr>\n",
       "    <tr>\n",
       "      <th>holiday</th>\n",
       "      <td>0.000468</td>\n",
       "      <td>1.000000</td>\n",
       "      <td>-0.247877</td>\n",
       "      <td>-0.094536</td>\n",
       "      <td>-0.013434</td>\n",
       "      <td>-0.008131</td>\n",
       "      <td>0.006655</td>\n",
       "      <td>-0.019608</td>\n",
       "      <td>0.002130</td>\n",
       "      <td>-0.041417</td>\n",
       "      <td>-0.005842</td>\n",
       "    </tr>\n",
       "    <tr>\n",
       "      <th>workingday</th>\n",
       "      <td>0.002209</td>\n",
       "      <td>-0.247877</td>\n",
       "      <td>1.000000</td>\n",
       "      <td>0.036898</td>\n",
       "      <td>0.057356</td>\n",
       "      <td>0.053103</td>\n",
       "      <td>0.025730</td>\n",
       "      <td>-0.004804</td>\n",
       "      <td>-0.015372</td>\n",
       "      <td>0.134013</td>\n",
       "      <td>0.010684</td>\n",
       "    </tr>\n",
       "    <tr>\n",
       "      <th>weekday</th>\n",
       "      <td>-0.003679</td>\n",
       "      <td>-0.094536</td>\n",
       "      <td>0.036898</td>\n",
       "      <td>1.000000</td>\n",
       "      <td>0.000816</td>\n",
       "      <td>0.000837</td>\n",
       "      <td>-0.043147</td>\n",
       "      <td>0.025951</td>\n",
       "      <td>-0.000206</td>\n",
       "      <td>0.015390</td>\n",
       "      <td>0.002738</td>\n",
       "    </tr>\n",
       "    <tr>\n",
       "      <th>weather_type</th>\n",
       "      <td>-0.029682</td>\n",
       "      <td>-0.013434</td>\n",
       "      <td>0.057356</td>\n",
       "      <td>0.000816</td>\n",
       "      <td>1.000000</td>\n",
       "      <td>-0.083150</td>\n",
       "      <td>0.417010</td>\n",
       "      <td>0.044447</td>\n",
       "      <td>-0.015864</td>\n",
       "      <td>-0.131915</td>\n",
       "      <td>-0.040555</td>\n",
       "    </tr>\n",
       "    <tr>\n",
       "      <th>temp</th>\n",
       "      <td>0.131916</td>\n",
       "      <td>-0.008131</td>\n",
       "      <td>0.053103</td>\n",
       "      <td>0.000837</td>\n",
       "      <td>-0.083150</td>\n",
       "      <td>1.000000</td>\n",
       "      <td>-0.032506</td>\n",
       "      <td>-0.035742</td>\n",
       "      <td>0.040763</td>\n",
       "      <td>0.332923</td>\n",
       "      <td>0.103055</td>\n",
       "    </tr>\n",
       "    <tr>\n",
       "      <th>humidity</th>\n",
       "      <td>-0.271771</td>\n",
       "      <td>0.006655</td>\n",
       "      <td>0.025730</td>\n",
       "      <td>-0.043147</td>\n",
       "      <td>0.417010</td>\n",
       "      <td>-0.032506</td>\n",
       "      <td>1.000000</td>\n",
       "      <td>-0.282958</td>\n",
       "      <td>-0.036357</td>\n",
       "      <td>-0.268173</td>\n",
       "      <td>-0.086425</td>\n",
       "    </tr>\n",
       "    <tr>\n",
       "      <th>wind_speed</th>\n",
       "      <td>0.127540</td>\n",
       "      <td>-0.019608</td>\n",
       "      <td>-0.004804</td>\n",
       "      <td>0.025951</td>\n",
       "      <td>0.044447</td>\n",
       "      <td>-0.035742</td>\n",
       "      <td>-0.282958</td>\n",
       "      <td>1.000000</td>\n",
       "      <td>0.010544</td>\n",
       "      <td>0.080219</td>\n",
       "      <td>0.025531</td>\n",
       "    </tr>\n",
       "    <tr>\n",
       "      <th>casual</th>\n",
       "      <td>0.028011</td>\n",
       "      <td>0.002130</td>\n",
       "      <td>-0.015372</td>\n",
       "      <td>-0.000206</td>\n",
       "      <td>-0.015864</td>\n",
       "      <td>0.040763</td>\n",
       "      <td>-0.036357</td>\n",
       "      <td>0.010544</td>\n",
       "      <td>1.000000</td>\n",
       "      <td>0.065853</td>\n",
       "      <td>0.981693</td>\n",
       "    </tr>\n",
       "    <tr>\n",
       "      <th>subscribed</th>\n",
       "      <td>0.371302</td>\n",
       "      <td>-0.041417</td>\n",
       "      <td>0.134013</td>\n",
       "      <td>0.015390</td>\n",
       "      <td>-0.131915</td>\n",
       "      <td>0.332923</td>\n",
       "      <td>-0.268173</td>\n",
       "      <td>0.080219</td>\n",
       "      <td>0.065853</td>\n",
       "      <td>1.000000</td>\n",
       "      <td>0.254705</td>\n",
       "    </tr>\n",
       "    <tr>\n",
       "      <th>usage</th>\n",
       "      <td>0.098023</td>\n",
       "      <td>-0.005842</td>\n",
       "      <td>0.010684</td>\n",
       "      <td>0.002738</td>\n",
       "      <td>-0.040555</td>\n",
       "      <td>0.103055</td>\n",
       "      <td>-0.086425</td>\n",
       "      <td>0.025531</td>\n",
       "      <td>0.981693</td>\n",
       "      <td>0.254705</td>\n",
       "      <td>1.000000</td>\n",
       "    </tr>\n",
       "  </tbody>\n",
       "</table>\n",
       "</div>"
      ],
      "text/plain": [
       "                  hour   holiday  workingday   weekday  weather_type  \\\n",
       "hour          1.000000  0.000468    0.002209 -0.003679     -0.029682   \n",
       "holiday       0.000468  1.000000   -0.247877 -0.094536     -0.013434   \n",
       "workingday    0.002209 -0.247877    1.000000  0.036898      0.057356   \n",
       "weekday      -0.003679 -0.094536    0.036898  1.000000      0.000816   \n",
       "weather_type -0.029682 -0.013434    0.057356  0.000816      1.000000   \n",
       "temp          0.131916 -0.008131    0.053103  0.000837     -0.083150   \n",
       "humidity     -0.271771  0.006655    0.025730 -0.043147      0.417010   \n",
       "wind_speed    0.127540 -0.019608   -0.004804  0.025951      0.044447   \n",
       "casual        0.028011  0.002130   -0.015372 -0.000206     -0.015864   \n",
       "subscribed    0.371302 -0.041417    0.134013  0.015390     -0.131915   \n",
       "usage         0.098023 -0.005842    0.010684  0.002738     -0.040555   \n",
       "\n",
       "                  temp  humidity  wind_speed    casual  subscribed     usage  \n",
       "hour          0.131916 -0.271771    0.127540  0.028011    0.371302  0.098023  \n",
       "holiday      -0.008131  0.006655   -0.019608  0.002130   -0.041417 -0.005842  \n",
       "workingday    0.053103  0.025730   -0.004804 -0.015372    0.134013  0.010684  \n",
       "weekday       0.000837 -0.043147    0.025951 -0.000206    0.015390  0.002738  \n",
       "weather_type -0.083150  0.417010    0.044447 -0.015864   -0.131915 -0.040555  \n",
       "temp          1.000000 -0.032506   -0.035742  0.040763    0.332923  0.103055  \n",
       "humidity     -0.032506  1.000000   -0.282958 -0.036357   -0.268173 -0.086425  \n",
       "wind_speed   -0.035742 -0.282958    1.000000  0.010544    0.080219  0.025531  \n",
       "casual        0.040763 -0.036357    0.010544  1.000000    0.065853  0.981693  \n",
       "subscribed    0.332923 -0.268173    0.080219  0.065853    1.000000  0.254705  \n",
       "usage         0.103055 -0.086425    0.025531  0.981693    0.254705  1.000000  "
      ]
     },
     "execution_count": 7,
     "metadata": {},
     "output_type": "execute_result"
    }
   ],
   "source": [
    "data.corr()"
   ]
  },
  {
   "cell_type": "code",
   "execution_count": 8,
   "metadata": {
    "collapsed": false
   },
   "outputs": [
    {
     "data": {
      "text/plain": [
       "<Container object of 13084 artists>"
      ]
     },
     "execution_count": 8,
     "metadata": {},
     "output_type": "execute_result"
    },
    {
     "data": {
      "image/png": "[encoded data removed]",
      "text/plain": [
       "<matplotlib.figure.Figure at 0x7f08f8c53978>"
      ]
     },
     "metadata": {},
     "output_type": "display_data"
    }
   ],
   "source": [
    "plt.bar(data.hour, data.subscribed)"
   ]
  },
  {
   "cell_type": "code",
   "execution_count": 9,
   "metadata": {
    "collapsed": false
   },
   "outputs": [
    {
     "data": {
      "text/plain": [
       "<Container object of 13084 artists>"
      ]
     },
     "execution_count": 9,
     "metadata": {},
     "output_type": "execute_result"
    },
    {
     "data": {
      "image/png": "[encoded data removed]",
      "text/plain": [
       "<matplotlib.figure.Figure at 0x7f08f8c53780>"
      ]
     },
     "metadata": {},
     "output_type": "display_data"
    }
   ],
   "source": [
    "plt.bar(data.hour, data.casual)"
   ]
  },
  {
   "cell_type": "code",
   "execution_count": 10,
   "metadata": {
    "collapsed": false
   },
   "outputs": [
    {
     "name": "stderr",
     "output_type": "stream",
     "text": [
      "/home/timur/dev_ides/anaconda3/lib/python3.5/site-packages/sklearn/cross_validation.py:44: DeprecationWarning: This module was deprecated in version 0.18 in favor of the model_selection module into which all the refactored classes and functions are moved. Also note that the interface of the new CV iterators are different from that of this module. This module will be removed in 0.20.\n",
      "  \"This module will be removed in 0.20.\", DeprecationWarning)\n"
     ]
    },
    {
     "name": "stdout",
     "output_type": "stream",
     "text": [
      "Error for subscribed:  147.649618561\n",
      "R2:  0.765351766326\n"
     ]
    }
   ],
   "source": [
    "from sklearn.linear_model import LinearRegression, LogisticRegression\n",
    "from sklearn.neighbors import KNeighborsRegressor\n",
    "from sklearn.metrics import mean_absolute_error\n",
    "from sklearn.metrics import r2_score\n",
    "from sklearn.cross_validation import train_test_split\n",
    "from sklearn.cross_validation import KFold\n",
    "from sklearn.ensemble import GradientBoostingRegressor\n",
    "\n",
    "data_test_set = data\n",
    "\n",
    "data_test_set = data_test_set.drop(['date', 'casual', 'subscribed', 'usage'], 1)\n",
    "X_train, X_test, y_train, y_test = train_test_split(data_test_set, data[['casual', 'subscribed']])\n",
    "\n",
    "# X_train = np.transpose(np.atleast_2d(X_train))\n",
    "# X_test = np.transpose(np.atleast_2d(X_test))\n",
    "\n",
    "y_train_subsribed = y_train.subscribed\n",
    "y_test_subscribed = y_test.subscribed\n",
    "\n",
    "linear_regression1 = GradientBoostingRegressor()\n",
    "\n",
    "linear_regression1.fit(X_train, y_train_subsribed)\n",
    "y_predicted1 = linear_regression1.predict(X_test)\n",
    "print(\"Error for subscribed: \", mean_absolute_error(y_test_subscribed, y_predicted1))\n",
    "print(\"R2: \", r2_score(y_test_subscribed, y_predicted1))"
   ]
  },
  {
   "cell_type": "code",
   "execution_count": 11,
   "metadata": {
    "collapsed": false
   },
   "outputs": [
    {
     "name": "stdout",
     "output_type": "stream",
     "text": [
      "Error for casual:  153.426984466\n",
      "R2:  0.00432891942426\n"
     ]
    }
   ],
   "source": [
    "from sklearn.neighbors import KNeighborsRegressor\n",
    "from sklearn.metrics import mean_absolute_error\n",
    "from sklearn.metrics import r2_score\n",
    "from sklearn.cross_validation import train_test_split\n",
    "from sklearn.cross_validation import KFold\n",
    "from sklearn.ensemble import GradientBoostingRegressor\n",
    "\n",
    "data_test_set = data\n",
    "\n",
    "data_test_set = data_test_set.drop(['date', 'casual', 'subscribed', 'usage'], 1)\n",
    "X_train, X_test, y_train, y_test = train_test_split(data_test_set, data[['casual', 'subscribed']])\n",
    "\n",
    "# X_train = np.transpose(np.atleast_2d(X_train))\n",
    "# X_test = np.transpose(np.atleast_2d(X_test))\n",
    "\n",
    "y_train_casual = y_train.casual\n",
    "y_test_casual = y_test.casual\n",
    "\n",
    "linear_regression2 = LinearRegression()\n",
    "\n",
    "linear_regression2.fit(X_train, y_train_casual)\n",
    "y_predicted2 = linear_regression2.predict(X_test)\n",
    "print(\"Error for casual: \", mean_absolute_error(y_test_casual, y_predicted2))\n",
    "print(\"R2: \", r2_score(y_test_casual, y_predicted2))"
   ]
  },
  {
   "cell_type": "code",
   "execution_count": 12,
   "metadata": {
    "collapsed": false,
    "scrolled": true
   },
   "outputs": [
    {
     "name": "stderr",
     "output_type": "stream",
     "text": [
      "/home/timur/dev_ides/anaconda3/lib/python3.5/site-packages/pandas/indexes/base.py:2482: RuntimeWarning: unorderable types: str() < int(), sort order is undefined for incomparable objects\n",
      "  return this.join(other, how=how, return_indexers=return_indexers)\n"
     ]
    },
    {
     "ename": "ValueError",
     "evalue": "Input contains NaN, infinity or a value too large for dtype('float64').",
     "output_type": "error",
     "traceback": [
      "\u001b[1;31m---------------------------------------------------------------------------\u001b[0m",
      "\u001b[1;31mValueError\u001b[0m                                Traceback (most recent call last)",
      "\u001b[1;32m<ipython-input-12-d9ac033758cd>\u001b[0m in \u001b[0;36m<module>\u001b[1;34m()\u001b[0m\n\u001b[0;32m      1\u001b[0m \u001b[0my_final\u001b[0m \u001b[1;33m=\u001b[0m \u001b[0my_predicted1\u001b[0m \u001b[1;33m+\u001b[0m \u001b[0my_predicted2\u001b[0m\u001b[1;33m\u001b[0m\u001b[0m\n\u001b[1;32m----> 2\u001b[1;33m \u001b[0mmean_absolute_error\u001b[0m\u001b[1;33m(\u001b[0m\u001b[0my_test_casual\u001b[0m \u001b[1;33m+\u001b[0m \u001b[0my_test\u001b[0m\u001b[1;33m,\u001b[0m \u001b[0my_final\u001b[0m\u001b[1;33m)\u001b[0m\u001b[1;33m\u001b[0m\u001b[0m\n\u001b[0m",
      "\u001b[1;32m/home/timur/dev_ides/anaconda3/lib/python3.5/site-packages/sklearn/metrics/regression.py\u001b[0m in \u001b[0;36mmean_absolute_error\u001b[1;34m(y_true, y_pred, sample_weight, multioutput)\u001b[0m\n\u001b[0;32m    161\u001b[0m     \"\"\"\n\u001b[0;32m    162\u001b[0m     y_type, y_true, y_pred, multioutput = _check_reg_targets(\n\u001b[1;32m--> 163\u001b[1;33m         y_true, y_pred, multioutput)\n\u001b[0m\u001b[0;32m    164\u001b[0m     output_errors = np.average(np.abs(y_pred - y_true),\n\u001b[0;32m    165\u001b[0m                                weights=sample_weight, axis=0)\n",
      "\u001b[1;32m/home/timur/dev_ides/anaconda3/lib/python3.5/site-packages/sklearn/metrics/regression.py\u001b[0m in \u001b[0;36m_check_reg_targets\u001b[1;34m(y_true, y_pred, multioutput)\u001b[0m\n\u001b[0;32m     73\u001b[0m     \"\"\"\n\u001b[0;32m     74\u001b[0m     \u001b[0mcheck_consistent_length\u001b[0m\u001b[1;33m(\u001b[0m\u001b[0my_true\u001b[0m\u001b[1;33m,\u001b[0m \u001b[0my_pred\u001b[0m\u001b[1;33m)\u001b[0m\u001b[1;33m\u001b[0m\u001b[0m\n\u001b[1;32m---> 75\u001b[1;33m     \u001b[0my_true\u001b[0m \u001b[1;33m=\u001b[0m \u001b[0mcheck_array\u001b[0m\u001b[1;33m(\u001b[0m\u001b[0my_true\u001b[0m\u001b[1;33m,\u001b[0m \u001b[0mensure_2d\u001b[0m\u001b[1;33m=\u001b[0m\u001b[1;32mFalse\u001b[0m\u001b[1;33m)\u001b[0m\u001b[1;33m\u001b[0m\u001b[0m\n\u001b[0m\u001b[0;32m     76\u001b[0m     \u001b[0my_pred\u001b[0m \u001b[1;33m=\u001b[0m \u001b[0mcheck_array\u001b[0m\u001b[1;33m(\u001b[0m\u001b[0my_pred\u001b[0m\u001b[1;33m,\u001b[0m \u001b[0mensure_2d\u001b[0m\u001b[1;33m=\u001b[0m\u001b[1;32mFalse\u001b[0m\u001b[1;33m)\u001b[0m\u001b[1;33m\u001b[0m\u001b[0m\n\u001b[0;32m     77\u001b[0m \u001b[1;33m\u001b[0m\u001b[0m\n",
      "\u001b[1;32m/home/timur/dev_ides/anaconda3/lib/python3.5/site-packages/sklearn/utils/validation.py\u001b[0m in \u001b[0;36mcheck_array\u001b[1;34m(array, accept_sparse, dtype, order, copy, force_all_finite, ensure_2d, allow_nd, ensure_min_samples, ensure_min_features, warn_on_dtype, estimator)\u001b[0m\n\u001b[0;32m    405\u001b[0m                              % (array.ndim, estimator_name))\n\u001b[0;32m    406\u001b[0m         \u001b[1;32mif\u001b[0m \u001b[0mforce_all_finite\u001b[0m\u001b[1;33m:\u001b[0m\u001b[1;33m\u001b[0m\u001b[0m\n\u001b[1;32m--> 407\u001b[1;33m             \u001b[0m_assert_all_finite\u001b[0m\u001b[1;33m(\u001b[0m\u001b[0marray\u001b[0m\u001b[1;33m)\u001b[0m\u001b[1;33m\u001b[0m\u001b[0m\n\u001b[0m\u001b[0;32m    408\u001b[0m \u001b[1;33m\u001b[0m\u001b[0m\n\u001b[0;32m    409\u001b[0m     \u001b[0mshape_repr\u001b[0m \u001b[1;33m=\u001b[0m \u001b[0m_shape_repr\u001b[0m\u001b[1;33m(\u001b[0m\u001b[0marray\u001b[0m\u001b[1;33m.\u001b[0m\u001b[0mshape\u001b[0m\u001b[1;33m)\u001b[0m\u001b[1;33m\u001b[0m\u001b[0m\n",
      "\u001b[1;32m/home/timur/dev_ides/anaconda3/lib/python3.5/site-packages/sklearn/utils/validation.py\u001b[0m in \u001b[0;36m_assert_all_finite\u001b[1;34m(X)\u001b[0m\n\u001b[0;32m     56\u001b[0m             and not np.isfinite(X).all()):\n\u001b[0;32m     57\u001b[0m         raise ValueError(\"Input contains NaN, infinity\"\n\u001b[1;32m---> 58\u001b[1;33m                          \" or a value too large for %r.\" % X.dtype)\n\u001b[0m\u001b[0;32m     59\u001b[0m \u001b[1;33m\u001b[0m\u001b[0m\n\u001b[0;32m     60\u001b[0m \u001b[1;33m\u001b[0m\u001b[0m\n",
      "\u001b[1;31mValueError\u001b[0m: Input contains NaN, infinity or a value too large for dtype('float64')."
     ]
    }
   ],
   "source": [
    "y_final = y_predicted1 + y_predicted2\n",
    "mean_absolute_error(y_test_casual + y_test, y_final)"
   ]
  },
  {
   "cell_type": "code",
   "execution_count": 7,
   "metadata": {
    "collapsed": false
   },
   "outputs": [
    {
     "data": {
      "text/plain": [
       "10"
      ]
     },
     "execution_count": 7,
     "metadata": {},
     "output_type": "execute_result"
    }
   ],
   "source": [
    "from sklearn.linear_model import LinearRegression, LogisticRegression\n",
    "from sklearn.neighbors import KNeighborsRegressor\n",
    "from sklearn.metrics import mean_absolute_error\n",
    "from sklearn.metrics import r2_score\n",
    "from sklearn.cross_validation import train_test_split\n",
    "from sklearn.cross_validation import KFold\n",
    "from sklearn.ensemble import GradientBoostingRegressor\n",
    "\n",
    "data_test_set = data\n",
    "\n",
    "data_test_set = data_test_set.drop(['date', 'holiday', 'weekday', 'ftemp', 'casual', 'subscribed', 'usage'], 1)\n",
    "X_train, X_test, y_train, y_test = btrain_test_split(data_test_set, data.subscribed)\n",
    "\n",
    "# X_train = np.transpose(np.atleast_2d(X_train))\n",
    "# X_test = np.transpose(np.atleast_2d(X_test))\n",
    "\n",
    "errors = []\n",
    "for i in range(1, 100, 1):\n",
    "    linear_regression1 = KNeighborsRegressor(n_neighbors=i, n_jobs=-1)\n",
    "\n",
    "    linear_regression1.fit(X_train, y_train)\n",
    "    y_predicted1 = linear_regression1.predict(X_test)\n",
    "#     print(\"Error for subscribed: \", mean_absolute_error(y_test, y_predicted1))\n",
    "#     print(\"R2: \", r2_score(y_test, y_predicted1))\n",
    "    errors.append(mean_absolute_error(y_test, y_predicted1))\n",
    "min(errors)\n",
    "errors.index(min(errors))"
   ]
  },
  {
   "cell_type": "code",
   "execution_count": 9,
   "metadata": {
    "collapsed": false
   },
   "outputs": [
    {
     "name": "stdout",
     "output_type": "stream",
     "text": [
      "Error for casual:  120.675893052\n",
      "R2:  -86.0408378046\n"
     ]
    }
   ],
   "source": [
    "from sklearn.neighbors import KNeighborsRegressor\n",
    "from sklearn.linear_model import LinearRegression, LogisticRegression\n",
    "from sklearn.metrics import mean_absolute_error\n",
    "from sklearn.metrics import r2_score\n",
    "from sklearn.cross_validation import train_test_split\n",
    "from sklearn.cross_validation import KFold\n",
    "from sklearn.ensemble import GradientBoostingRegressor\n",
    "from sklearn.tree import DecisionTreeRegressor\n",
    "from sklearn.svm import SVR\n",
    "from sklearn.ensemble import RandomForestRegressor\n",
    "\n",
    "data_test_set = data\n",
    "\n",
    "data_test_set = data_test_set.drop(['date', 'holiday', 'weekday', 'ftemp', 'casual', 'subscribed', 'usage'], 1)\n",
    "X_train, X_test, y_train, y_test = train_test_split(data_test_set, data.casual)\n",
    "\n",
    "# X_train = np.transpose(np.atleast_2d(X_train))\n",
    "# X_test = np.transpose(np.atleast_2d(X_test))\n",
    "\n",
    "# linear_regression2 = KNeighborsRegressor(n_neighbors=1, n_jobs=-1)\n",
    "linear_regression2 = RandomForestRegressor(n_estimators=100, max_features ='sqrt')\n",
    "\n",
    "linear_regression2.fit(X_train, y_train)\n",
    "y_predicted2 = linear_regression2.predict(X_test)\n",
    "print(\"Error for casual: \", mean_absolute_error(y_test, y_predicted2))\n",
    "print(\"R2: \", r2_score(y_test, y_predicted2))\n"
   ]
  },
  {
   "cell_type": "code",
   "execution_count": null,
   "metadata": {
    "collapsed": true
   },
   "outputs": [],
   "source": []
  }
 ],
 "metadata": {
  "kernelspec": {
   "display_name": "Python [Root]",
   "language": "python",
   "name": "Python [Root]"
  },
  "language_info": {
   "codemirror_mode": {
    "name": "ipython",
    "version": 3
   },
   "file_extension": ".py",
   "mimetype": "text/x-python",
   "name": "python",
   "nbconvert_exporter": "python",
   "pygments_lexer": "ipython3",
   "version": "3.5.2"
  }
 },
 "nbformat": 4,
 "nbformat_minor": 0
}
