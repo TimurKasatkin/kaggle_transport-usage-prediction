{
 "cells": [
  {
   "cell_type": "code",
   "execution_count": 10,
   "metadata": {
    "collapsed": false
   },
   "outputs": [
    {
     "name": "stdout",
     "output_type": "stream",
     "text": [
      "Populating the interactive namespace from numpy and matplotlib\n"
     ]
    }
   ],
   "source": [
    "%pylab inline  "
   ]
  },
  {
   "cell_type": "code",
   "execution_count": 11,
   "metadata": {
    "collapsed": true
   },
   "outputs": [],
   "source": [
    "import pandas as pd\n",
    "import sklearn as skl\n",
    "from pprint import pprint\n",
    "import scipy\n",
    "import sys\n",
    "import pandas as pd\n",
    "from matplotlib import pyplot as plt\n",
    "import pylab as pl"
   ]
  },
  {
   "cell_type": "code",
   "execution_count": 12,
   "metadata": {
    "collapsed": false
   },
   "outputs": [],
   "source": [
    "data = pd.read_csv('train.csv')"
   ]
  },
  {
   "cell_type": "code",
   "execution_count": 13,
   "metadata": {
    "collapsed": false
   },
   "outputs": [
    {
     "name": "stdout",
     "output_type": "stream",
     "text": [
      "Amount absent values 'ftemp': 25.138 %\n"
     ]
    },
    {
     "data": {
      "text/html": [
       "<div>\n",
       "<table border=\"1\" class=\"dataframe\">\n",
       "  <thead>\n",
       "    <tr style=\"text-align: right;\">\n",
       "      <th></th>\n",
       "      <th>date</th>\n",
       "      <th>hour</th>\n",
       "      <th>holiday</th>\n",
       "      <th>workingday</th>\n",
       "      <th>weekday</th>\n",
       "      <th>weather_type</th>\n",
       "      <th>temp</th>\n",
       "      <th>ftemp</th>\n",
       "      <th>humidity</th>\n",
       "      <th>wind_speed</th>\n",
       "      <th>casual</th>\n",
       "      <th>subscribed</th>\n",
       "      <th>usage</th>\n",
       "    </tr>\n",
       "  </thead>\n",
       "  <tbody>\n",
       "    <tr>\n",
       "      <th>0</th>\n",
       "      <td>2011-01-03</td>\n",
       "      <td>0</td>\n",
       "      <td>0</td>\n",
       "      <td>1</td>\n",
       "      <td>1</td>\n",
       "      <td>1</td>\n",
       "      <td>0.22</td>\n",
       "      <td>0.19699999999999998</td>\n",
       "      <td>0.44</td>\n",
       "      <td>0.3582</td>\n",
       "      <td>0</td>\n",
       "      <td>15</td>\n",
       "      <td>15</td>\n",
       "    </tr>\n",
       "    <tr>\n",
       "      <th>1</th>\n",
       "      <td>2011-01-03</td>\n",
       "      <td>1</td>\n",
       "      <td>0</td>\n",
       "      <td>1</td>\n",
       "      <td>1</td>\n",
       "      <td>1</td>\n",
       "      <td>0.20</td>\n",
       "      <td>0.1667</td>\n",
       "      <td>0.44</td>\n",
       "      <td>0.4179</td>\n",
       "      <td>0</td>\n",
       "      <td>6</td>\n",
       "      <td>6</td>\n",
       "    </tr>\n",
       "    <tr>\n",
       "      <th>2</th>\n",
       "      <td>2011-01-03</td>\n",
       "      <td>4</td>\n",
       "      <td>0</td>\n",
       "      <td>1</td>\n",
       "      <td>1</td>\n",
       "      <td>1</td>\n",
       "      <td>0.16</td>\n",
       "      <td>0.1364</td>\n",
       "      <td>0.47</td>\n",
       "      <td>0.3881</td>\n",
       "      <td>0</td>\n",
       "      <td>3</td>\n",
       "      <td>3</td>\n",
       "    </tr>\n",
       "    <tr>\n",
       "      <th>3</th>\n",
       "      <td>2011-01-03</td>\n",
       "      <td>5</td>\n",
       "      <td>0</td>\n",
       "      <td>1</td>\n",
       "      <td>1</td>\n",
       "      <td>1</td>\n",
       "      <td>0.16</td>\n",
       "      <td>0.1364</td>\n",
       "      <td>0.47</td>\n",
       "      <td>0.2836</td>\n",
       "      <td>0</td>\n",
       "      <td>9</td>\n",
       "      <td>9</td>\n",
       "    </tr>\n",
       "    <tr>\n",
       "      <th>4</th>\n",
       "      <td>2011-01-03</td>\n",
       "      <td>6</td>\n",
       "      <td>0</td>\n",
       "      <td>1</td>\n",
       "      <td>1</td>\n",
       "      <td>1</td>\n",
       "      <td>0.14</td>\n",
       "      <td>-</td>\n",
       "      <td>0.50</td>\n",
       "      <td>0.3881</td>\n",
       "      <td>0</td>\n",
       "      <td>90</td>\n",
       "      <td>90</td>\n",
       "    </tr>\n",
       "  </tbody>\n",
       "</table>\n",
       "</div>"
      ],
      "text/plain": [
       "         date  hour  holiday  workingday  weekday  weather_type  temp  \\\n",
       "0  2011-01-03     0        0           1        1             1  0.22   \n",
       "1  2011-01-03     1        0           1        1             1  0.20   \n",
       "2  2011-01-03     4        0           1        1             1  0.16   \n",
       "3  2011-01-03     5        0           1        1             1  0.16   \n",
       "4  2011-01-03     6        0           1        1             1  0.14   \n",
       "\n",
       "                 ftemp  humidity  wind_speed  casual  subscribed  usage  \n",
       "0  0.19699999999999998      0.44      0.3582       0          15     15  \n",
       "1               0.1667      0.44      0.4179       0           6      6  \n",
       "2               0.1364      0.47      0.3881       0           3      3  \n",
       "3               0.1364      0.47      0.2836       0           9      9  \n",
       "4                    -      0.50      0.3881       0          90     90  "
      ]
     },
     "execution_count": 13,
     "metadata": {},
     "output_type": "execute_result"
    }
   ],
   "source": [
    "print(\"Amount absent values 'ftemp': %.3f\" % (len(data[data.ftemp == '-']) / len(data) * 100), '%')\n",
    "data.head()"
   ]
  },
  {
   "cell_type": "code",
   "execution_count": 14,
   "metadata": {
    "collapsed": false
   },
   "outputs": [
    {
     "data": {
      "text/plain": [
       "0.02095721286370588"
      ]
     },
     "execution_count": 14,
     "metadata": {},
     "output_type": "execute_result"
    }
   ],
   "source": [
    "known_ftemp = data[data.ftemp != '-']\n",
    "medium_diff = np.mean(known_ftemp.temp - known_ftemp.ftemp.astype(float))\n",
    "medium_diff"
   ]
  },
  {
   "cell_type": "code",
   "execution_count": 15,
   "metadata": {
    "collapsed": false
   },
   "outputs": [],
   "source": [
    "data.loc[data.ftemp == '-', 'ftemp'] = data.temp - medium_diff"
   ]
  },
  {
   "cell_type": "code",
   "execution_count": 16,
   "metadata": {
    "collapsed": false
   },
   "outputs": [
    {
     "data": {
      "text/html": [
       "<div>\n",
       "<table border=\"1\" class=\"dataframe\">\n",
       "  <thead>\n",
       "    <tr style=\"text-align: right;\">\n",
       "      <th></th>\n",
       "      <th>hour</th>\n",
       "      <th>holiday</th>\n",
       "      <th>workingday</th>\n",
       "      <th>weekday</th>\n",
       "      <th>weather_type</th>\n",
       "      <th>temp</th>\n",
       "      <th>humidity</th>\n",
       "      <th>wind_speed</th>\n",
       "      <th>casual</th>\n",
       "      <th>subscribed</th>\n",
       "      <th>usage</th>\n",
       "    </tr>\n",
       "  </thead>\n",
       "  <tbody>\n",
       "    <tr>\n",
       "      <th>hour</th>\n",
       "      <td>1.000000</td>\n",
       "      <td>0.000468</td>\n",
       "      <td>0.002209</td>\n",
       "      <td>-0.003679</td>\n",
       "      <td>-0.029682</td>\n",
       "      <td>0.131916</td>\n",
       "      <td>-0.271771</td>\n",
       "      <td>0.127540</td>\n",
       "      <td>0.028011</td>\n",
       "      <td>0.371302</td>\n",
       "      <td>0.098023</td>\n",
       "    </tr>\n",
       "    <tr>\n",
       "      <th>holiday</th>\n",
       "      <td>0.000468</td>\n",
       "      <td>1.000000</td>\n",
       "      <td>-0.247877</td>\n",
       "      <td>-0.094536</td>\n",
       "      <td>-0.013434</td>\n",
       "      <td>-0.008131</td>\n",
       "      <td>0.006655</td>\n",
       "      <td>-0.019608</td>\n",
       "      <td>0.002130</td>\n",
       "      <td>-0.041417</td>\n",
       "      <td>-0.005842</td>\n",
       "    </tr>\n",
       "    <tr>\n",
       "      <th>workingday</th>\n",
       "      <td>0.002209</td>\n",
       "      <td>-0.247877</td>\n",
       "      <td>1.000000</td>\n",
       "      <td>0.036898</td>\n",
       "      <td>0.057356</td>\n",
       "      <td>0.053103</td>\n",
       "      <td>0.025730</td>\n",
       "      <td>-0.004804</td>\n",
       "      <td>-0.015372</td>\n",
       "      <td>0.134013</td>\n",
       "      <td>0.010684</td>\n",
       "    </tr>\n",
       "    <tr>\n",
       "      <th>weekday</th>\n",
       "      <td>-0.003679</td>\n",
       "      <td>-0.094536</td>\n",
       "      <td>0.036898</td>\n",
       "      <td>1.000000</td>\n",
       "      <td>0.000816</td>\n",
       "      <td>0.000837</td>\n",
       "      <td>-0.043147</td>\n",
       "      <td>0.025951</td>\n",
       "      <td>-0.000206</td>\n",
       "      <td>0.015390</td>\n",
       "      <td>0.002738</td>\n",
       "    </tr>\n",
       "    <tr>\n",
       "      <th>weather_type</th>\n",
       "      <td>-0.029682</td>\n",
       "      <td>-0.013434</td>\n",
       "      <td>0.057356</td>\n",
       "      <td>0.000816</td>\n",
       "      <td>1.000000</td>\n",
       "      <td>-0.083150</td>\n",
       "      <td>0.417010</td>\n",
       "      <td>0.044447</td>\n",
       "      <td>-0.015864</td>\n",
       "      <td>-0.131915</td>\n",
       "      <td>-0.040555</td>\n",
       "    </tr>\n",
       "    <tr>\n",
       "      <th>temp</th>\n",
       "      <td>0.131916</td>\n",
       "      <td>-0.008131</td>\n",
       "      <td>0.053103</td>\n",
       "      <td>0.000837</td>\n",
       "      <td>-0.083150</td>\n",
       "      <td>1.000000</td>\n",
       "      <td>-0.032506</td>\n",
       "      <td>-0.035742</td>\n",
       "      <td>0.040763</td>\n",
       "      <td>0.332923</td>\n",
       "      <td>0.103055</td>\n",
       "    </tr>\n",
       "    <tr>\n",
       "      <th>humidity</th>\n",
       "      <td>-0.271771</td>\n",
       "      <td>0.006655</td>\n",
       "      <td>0.025730</td>\n",
       "      <td>-0.043147</td>\n",
       "      <td>0.417010</td>\n",
       "      <td>-0.032506</td>\n",
       "      <td>1.000000</td>\n",
       "      <td>-0.282958</td>\n",
       "      <td>-0.036357</td>\n",
       "      <td>-0.268173</td>\n",
       "      <td>-0.086425</td>\n",
       "    </tr>\n",
       "    <tr>\n",
       "      <th>wind_speed</th>\n",
       "      <td>0.127540</td>\n",
       "      <td>-0.019608</td>\n",
       "      <td>-0.004804</td>\n",
       "      <td>0.025951</td>\n",
       "      <td>0.044447</td>\n",
       "      <td>-0.035742</td>\n",
       "      <td>-0.282958</td>\n",
       "      <td>1.000000</td>\n",
       "      <td>0.010544</td>\n",
       "      <td>0.080219</td>\n",
       "      <td>0.025531</td>\n",
       "    </tr>\n",
       "    <tr>\n",
       "      <th>casual</th>\n",
       "      <td>0.028011</td>\n",
       "      <td>0.002130</td>\n",
       "      <td>-0.015372</td>\n",
       "      <td>-0.000206</td>\n",
       "      <td>-0.015864</td>\n",
       "      <td>0.040763</td>\n",
       "      <td>-0.036357</td>\n",
       "      <td>0.010544</td>\n",
       "      <td>1.000000</td>\n",
       "      <td>0.065853</td>\n",
       "      <td>0.981693</td>\n",
       "    </tr>\n",
       "    <tr>\n",
       "      <th>subscribed</th>\n",
       "      <td>0.371302</td>\n",
       "      <td>-0.041417</td>\n",
       "      <td>0.134013</td>\n",
       "      <td>0.015390</td>\n",
       "      <td>-0.131915</td>\n",
       "      <td>0.332923</td>\n",
       "      <td>-0.268173</td>\n",
       "      <td>0.080219</td>\n",
       "      <td>0.065853</td>\n",
       "      <td>1.000000</td>\n",
       "      <td>0.254705</td>\n",
       "    </tr>\n",
       "    <tr>\n",
       "      <th>usage</th>\n",
       "      <td>0.098023</td>\n",
       "      <td>-0.005842</td>\n",
       "      <td>0.010684</td>\n",
       "      <td>0.002738</td>\n",
       "      <td>-0.040555</td>\n",
       "      <td>0.103055</td>\n",
       "      <td>-0.086425</td>\n",
       "      <td>0.025531</td>\n",
       "      <td>0.981693</td>\n",
       "      <td>0.254705</td>\n",
       "      <td>1.000000</td>\n",
       "    </tr>\n",
       "  </tbody>\n",
       "</table>\n",
       "</div>"
      ],
      "text/plain": [
       "                  hour   holiday  workingday   weekday  weather_type  \\\n",
       "hour          1.000000  0.000468    0.002209 -0.003679     -0.029682   \n",
       "holiday       0.000468  1.000000   -0.247877 -0.094536     -0.013434   \n",
       "workingday    0.002209 -0.247877    1.000000  0.036898      0.057356   \n",
       "weekday      -0.003679 -0.094536    0.036898  1.000000      0.000816   \n",
       "weather_type -0.029682 -0.013434    0.057356  0.000816      1.000000   \n",
       "temp          0.131916 -0.008131    0.053103  0.000837     -0.083150   \n",
       "humidity     -0.271771  0.006655    0.025730 -0.043147      0.417010   \n",
       "wind_speed    0.127540 -0.019608   -0.004804  0.025951      0.044447   \n",
       "casual        0.028011  0.002130   -0.015372 -0.000206     -0.015864   \n",
       "subscribed    0.371302 -0.041417    0.134013  0.015390     -0.131915   \n",
       "usage         0.098023 -0.005842    0.010684  0.002738     -0.040555   \n",
       "\n",
       "                  temp  humidity  wind_speed    casual  subscribed     usage  \n",
       "hour          0.131916 -0.271771    0.127540  0.028011    0.371302  0.098023  \n",
       "holiday      -0.008131  0.006655   -0.019608  0.002130   -0.041417 -0.005842  \n",
       "workingday    0.053103  0.025730   -0.004804 -0.015372    0.134013  0.010684  \n",
       "weekday       0.000837 -0.043147    0.025951 -0.000206    0.015390  0.002738  \n",
       "weather_type -0.083150  0.417010    0.044447 -0.015864   -0.131915 -0.040555  \n",
       "temp          1.000000 -0.032506   -0.035742  0.040763    0.332923  0.103055  \n",
       "humidity     -0.032506  1.000000   -0.282958 -0.036357   -0.268173 -0.086425  \n",
       "wind_speed   -0.035742 -0.282958    1.000000  0.010544    0.080219  0.025531  \n",
       "casual        0.040763 -0.036357    0.010544  1.000000    0.065853  0.981693  \n",
       "subscribed    0.332923 -0.268173    0.080219  0.065853    1.000000  0.254705  \n",
       "usage         0.103055 -0.086425    0.025531  0.981693    0.254705  1.000000  "
      ]
     },
     "execution_count": 16,
     "metadata": {},
     "output_type": "execute_result"
    }
   ],
   "source": [
    "data.corr()"
   ]
  },
  {
   "cell_type": "code",
   "execution_count": 390,
   "metadata": {
    "collapsed": false
   },
   "outputs": [
    {
     "data": {
      "text/plain": [
       "[<matplotlib.lines.Line2D at 0x1749bab88d0>]"
      ]
     },
     "execution_count": 390,
     "metadata": {},
     "output_type": "execute_result"
    },
    {
     "data": {
      "image/png": "[encoded data removed]",
      "text/plain": [
       "<matplotlib.figure.Figure at 0x1749b4e4a90>"
      ]
     },
     "metadata": {},
     "output_type": "display_data"
    }
   ],
   "source": [
    "sums = []\n",
    "for a in range(0, 24):\n",
    "    sums.append(data.casual[data['hour'] == a].sum())\n",
    "plt.plot(sums)"
   ]
  },
  {
   "cell_type": "code",
   "execution_count": 388,
   "metadata": {
    "collapsed": false
   },
   "outputs": [
    {
     "data": {
      "text/plain": [
       "[<matplotlib.lines.Line2D at 0x1749a0a1518>]"
      ]
     },
     "execution_count": 388,
     "metadata": {},
     "output_type": "execute_result"
    },
    {
     "data": {
      "image/png": "[encoded data removed]",
      "text/plain": [
       "<matplotlib.figure.Figure at 0x174999f0c50>"
      ]
     },
     "metadata": {},
     "output_type": "display_data"
    }
   ],
   "source": [
    "sums = []\n",
    "for a in range(0, 24):\n",
    "    sums.append(data.subscribed[data['hour'] == a].sum())\n",
    "plt.plot(sums)"
   ]
  },
  {
   "cell_type": "code",
   "execution_count": 412,
   "metadata": {
    "collapsed": false
   },
   "outputs": [
    {
     "name": "stdout",
     "output_type": "stream",
     "text": [
      "Error for subscribed:  134.811233707\n",
      "R2:  0.805164995846\n"
     ]
    }
   ],
   "source": [
    "from sklearn.linear_model import LinearRegression, LogisticRegression\n",
    "from sklearn.neighbors import KNeighborsRegressor\n",
    "from sklearn.metrics import mean_absolute_error\n",
    "from sklearn.metrics import r2_score\n",
    "from sklearn.cross_validation import train_test_split\n",
    "from sklearn.cross_validation import KFold\n",
    "from sklearn.ensemble import GradientBoostingRegressor\n",
    "\n",
    "data_test_set = data\n",
    "\n",
    "data_test_set = data_test_set.drop(['date', 'holiday', 'weekday', 'ftemp', 'casual', 'subscribed', 'usage'], 1)\n",
    "X_train, X_test, y_train, y_test = train_test_split(data_test_set, data.subscribed)\n",
    "\n",
    "# X_train = np.transpose(np.atleast_2d(X_train))\n",
    "# X_test = np.transpose(np.atleast_2d(X_test))\n",
    "\n",
    "y_train_subsribed = y_train\n",
    "y_test_subsribed = y_test\n",
    "\n",
    "linear_regression1 = KNeighborsRegressor(n_neighbors=11, n_jobs=-1)\n",
    "\n",
    "linear_regression1.fit(X_train, y_train_subsribed)\n",
    "y_predicted1 = linear_regression1.predict(X_test)\n",
    "print(\"Error for subscribed: \", mean_absolute_error(y_test_subsribed, y_predicted1))\n",
    "print(\"R2: \", r2_score(y_test_subsribed, y_predicted1))"
   ]
  },
  {
   "cell_type": "code",
   "execution_count": 449,
   "metadata": {
    "collapsed": false
   },
   "outputs": [
    {
     "name": "stdout",
     "output_type": "stream",
     "text": [
      "Error for casual:  79.3929498188\n",
      "R2:  -4.79984034769\n"
     ]
    },
    {
     "data": {
      "text/plain": [
       "array([], dtype=float64)"
      ]
     },
     "execution_count": 449,
     "metadata": {},
     "output_type": "execute_result"
    }
   ],
   "source": [
    "from sklearn.neighbors import KNeighborsRegressor\n",
    "from sklearn.linear_model import LinearRegression, LogisticRegression\n",
    "from sklearn.metrics import mean_absolute_error\n",
    "from sklearn.metrics import r2_score\n",
    "from sklearn.cross_validation import train_test_split\n",
    "from sklearn.cross_validation import KFold\n",
    "from sklearn.ensemble import GradientBoostingRegressor\n",
    "from sklearn.tree import DecisionTreeRegressor\n",
    "from sklearn.svm import SVR\n",
    "from sklearn.ensemble import RandomForestRegressor\n",
    "\n",
    "data_test_set = data\n",
    "\n",
    "data_test_set = data_test_set.drop(['date', 'holiday', 'weekday', 'ftemp', 'casual', 'subscribed', 'usage'], 1)\n",
    "X_train, X_test, y_train, y_test = train_test_split(data_test_set, data.casual)\n",
    "\n",
    "# X_train = np.transpose(np.atleast_2d(X_train))\n",
    "# X_test = np.transpose(np.atleast_2d(X_test))\n",
    "\n",
    "y_train_casual = y_train\n",
    "y_test_casual = y_test\n",
    "\n",
    "# linear_regression2 = KNeighborsRegressor(n_neighbors=1, n_jobs=-1)\n",
    "linear_regression2 = RandomForestRegressor(n_estimators=100, max_features ='sqrt')\n",
    "\n",
    "linear_regression2.fit(X_train, y_train_casual)\n",
    "y_predicted2 = linear_regression2.predict(X_test)\n",
    "print(\"Error for casual: \", mean_absolute_error(y_test_casual, y_predicted2))\n",
    "print(\"R2: \", r2_score(y_test_casual, y_predicted2))\n",
    "\n",
    "y_predicted2[y_predicted2 < 0]"
   ]
  },
  {
   "cell_type": "code",
   "execution_count": 450,
   "metadata": {
    "collapsed": false
   },
   "outputs": [
    {
     "data": {
      "text/plain": [
       "489.96738614692151"
      ]
     },
     "execution_count": 450,
     "metadata": {},
     "output_type": "execute_result"
    }
   ],
   "source": [
    "y_final = y_predicted1 + y_predicted2\n",
    "a = np.array(y_test_casual) + np.array(y_test_subscribed)\n",
    "np.mean(abs(a - y_final))"
   ]
  },
  {
   "cell_type": "code",
   "execution_count": 451,
   "metadata": {
    "collapsed": false
   },
   "outputs": [],
   "source": [
    "test_data = pd.read_csv('test.csv')\n",
    "data_index = test_data.Id.values\n",
    "data_x = test_data.drop(['Id', 'date', 'holiday', 'weekday', 'ftemp'], 1)\n",
    "answers_subcribed = linear_regression1.predict(data_x)\n",
    "answers_casual = linear_regression2.predict(data_x)\n",
    "answers = answers_subcribed + answers_casual"
   ]
  },
  {
   "cell_type": "code",
   "execution_count": 452,
   "metadata": {
    "collapsed": false
   },
   "outputs": [],
   "source": [
    "import csv\n",
    "with open('submission.csv', 'w') as csvfile:\n",
    "        writer = csv.writer(csvfile)\n",
    "        writer.writerow((\"Id\", \"Expected\"))\n",
    "        for i in range(0, len(data_x)):\n",
    "            writer.writerow((data_index[i], answers[i]))"
   ]
  }
 ],
 "metadata": {
  "kernelspec": {
   "display_name": "Python [Root]",
   "language": "python",
   "name": "Python [Root]"
  },
  "language_info": {
   "codemirror_mode": {
    "name": "ipython",
    "version": 3
   },
   "file_extension": ".py",
   "mimetype": "text/x-python",
   "name": "python",
   "nbconvert_exporter": "python",
   "pygments_lexer": "ipython3",
   "version": "3.5.2"
  }
 },
 "nbformat": 4,
 "nbformat_minor": 0
}
